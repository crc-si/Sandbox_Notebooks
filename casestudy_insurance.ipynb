{
 "cells": [
  {
   "cell_type": "code",
   "execution_count": null,
   "metadata": {},
   "outputs": [],
   "source": [
    "import pandas as pd\n",
    "import datacube\n",
    "import matplotlib.pyplot as plt"
   ]
  },
  {
   "cell_type": "code",
   "execution_count": null,
   "metadata": {},
   "outputs": [],
   "source": [
    "yield_nsw = pd.read_csv(\"ancillary_data/NSW_Yield_Data.csv\")"
   ]
  },
  {
   "cell_type": "code",
   "execution_count": null,
   "metadata": {},
   "outputs": [],
   "source": [
    "harden_lat = (-34.7, -34.6)\n",
    "harden_lon = (148.3, 148.4)\n",
    "time_range = (1989, 2017)"
   ]
  },
  {
   "cell_type": "code",
   "execution_count": null,
   "metadata": {},
   "outputs": [],
   "source": [
    "# Connect to the datacube\n",
    "dc = datacube.Datacube(app='Coastal erosion')\n",
    "\n",
    "# Create the 'query' dictionary object, which contains the longitudes, latitudes and time provided above\n",
    "query = {\n",
    "    'y': harden_lat,\n",
    "    'x': harden_lon,\n",
    "    'time': time_range,\n",
    "    'output_crs': 'EPSG:28352',\n",
    "    'resolution': (-25, 25)\n",
    "}\n",
    "\n",
    "# Load Landsat 8 data for the time and area in the query. This may take several minutes, so please be patient.\n",
    "landsat_ds = dc.load(\n",
    "    product='ls8_nbart_geomedian_annual',\n",
    "    **query,\n",
    "    measurements=['red', 'green', 'blue', 'nir']\n",
    ")\n",
    "\n",
    "print(landsat_ds)"
   ]
  },
  {
   "cell_type": "code",
   "execution_count": null,
   "metadata": {},
   "outputs": [],
   "source": [
    "landsat_ds['ndvi'] = (landsat_ds.nir - landsat_ds.red)/(landsat_ds.nir + landsat_ds.red)\n",
    "print(landsat_ds)"
   ]
  },
  {
   "cell_type": "code",
   "execution_count": null,
   "metadata": {},
   "outputs": [],
   "source": [
    "timestep = 0\n",
    "bands = ['red', 'green', 'blue']\n",
    "\n",
    "landsat_ds[bands].isel(time=timestep).to_array().plot.imshow(robust=True, figsize=(8, 8))\n",
    "plt.show()\n",
    "\n",
    "landsat_ds.ndvi.isel(time=timestep).plot.imshow(robust=True, figsize=(8, 8))\n",
    "plt.show()"
   ]
  }
 ],
 "metadata": {
  "kernelspec": {
   "display_name": "Python 3",
   "language": "python",
   "name": "python3"
  },
  "language_info": {
   "codemirror_mode": {
    "name": "ipython",
    "version": 3
   },
   "file_extension": ".py",
   "mimetype": "text/x-python",
   "name": "python",
   "nbconvert_exporter": "python",
   "pygments_lexer": "ipython3",
   "version": "3.6.7"
  }
 },
 "nbformat": 4,
 "nbformat_minor": 2
}
