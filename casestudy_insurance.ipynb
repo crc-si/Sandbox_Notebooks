{
 "cells": [
  {
   "cell_type": "code",
   "execution_count": null,
   "metadata": {},
   "outputs": [],
   "source": [
    "import pandas as pd\n",
    "import datacube\n",
    "import matplotlib.pyplot as plt\n",
    "import xarray as xr\n",
    "import datetime as dt\n",
    "import numpy as np"
   ]
  },
  {
   "cell_type": "code",
   "execution_count": null,
   "metadata": {},
   "outputs": [],
   "source": [
    "yield_nsw = pd.read_csv(\"ancillary_data/NSW_Yield_Data.csv\", parse_dates=['time'])"
   ]
  },
  {
   "cell_type": "code",
   "execution_count": null,
   "metadata": {},
   "outputs": [],
   "source": [
    "yield_nsw"
   ]
  },
  {
   "cell_type": "code",
   "execution_count": null,
   "metadata": {},
   "outputs": [],
   "source": [
    "harden_lat = (-34.7, -34.6)\n",
    "harden_lon = (148.3, 148.4)\n",
    "time_range = (1989, 2017)"
   ]
  },
  {
   "cell_type": "code",
   "execution_count": null,
   "metadata": {},
   "outputs": [],
   "source": [
    "# Connect to the datacube\n",
    "dc = datacube.Datacube(app='Coastal erosion')\n",
    "\n",
    "# Create the 'query' dictionary object, which contains the longitudes, latitudes and time provided above\n",
    "query = {\n",
    "    'y': harden_lat,\n",
    "    'x': harden_lon,\n",
    "    'time': time_range,\n",
    "    'output_crs': 'EPSG:28352',\n",
    "    'resolution': (-25, 25)\n",
    "}\n",
    "\n",
    "# Load Landsat 8 data for the time and area in the query. This may take several minutes, so please be patient.\n",
    "landsat8_ds = dc.load(\n",
    "    product='ls8_nbart_geomedian_annual',\n",
    "    **query,\n",
    "    measurements=['red', 'green', 'blue', 'nir']\n",
    ")\n",
    "\n",
    "# Load Landsat 7 data for the time and area in the query. This may take several minutes, so please be patient.\n",
    "landsat7_ds = dc.load(\n",
    "    product='ls7_nbart_geomedian_annual',\n",
    "    **query,\n",
    "    measurements=['red', 'green', 'blue', 'nir']\n",
    ")\n",
    "\n",
    "# Load Landsat 5 data for the time and area in the query. This may take several minutes, so please be patient.\n",
    "landsat5_ds = dc.load(\n",
    "    product='ls5_nbart_geomedian_annual',\n",
    "    **query,\n",
    "    measurements=['red', 'green', 'blue', 'nir']\n",
    ")"
   ]
  },
  {
   "cell_type": "code",
   "execution_count": null,
   "metadata": {},
   "outputs": [],
   "source": [
    "print(landsat5_ds.time)\n",
    "print(landsat7_ds.time)\n",
    "print(landsat8_ds.time)"
   ]
  },
  {
   "cell_type": "code",
   "execution_count": null,
   "metadata": {},
   "outputs": [],
   "source": [
    "landsat5_filtered_1 = landsat5_ds.sel(time=landsat5_ds.time < np.datetime64('2001-01-01'))\n",
    "landsat5_filtered_2 = landsat5_ds.sel(time=landsat5_ds.time > np.datetime64('2003-01-01'))\n",
    "landsat7_filtered = landsat7_ds.sel(time=landsat7_ds.time < np.datetime64('2004-01-01'))\n",
    "\n",
    "landsat_combined = xr.concat([landsat5_filtered_1, landsat7_filtered, landsat5_filtered_2, landsat8_ds], dim='time')"
   ]
  },
  {
   "cell_type": "code",
   "execution_count": null,
   "metadata": {},
   "outputs": [],
   "source": [
    "np.asarray(landsat_combined.time)"
   ]
  },
  {
   "cell_type": "code",
   "execution_count": null,
   "metadata": {},
   "outputs": [],
   "source": [
    "landsat_combined['ndvi'] = (landsat_combined.nir - landsat_combined.red)/(landsat_combined.nir + landsat_combined.red)\n",
    "landsat_mean = landsat_combined.mean(dim=['x','y'])"
   ]
  },
  {
   "cell_type": "code",
   "execution_count": null,
   "metadata": {},
   "outputs": [],
   "source": [
    "ndvi_df = ndvi_array.to_dataframe()"
   ]
  },
  {
   "cell_type": "code",
   "execution_count": null,
   "metadata": {},
   "outputs": [],
   "source": [
    "ndvi_yield = pd.merge(yield_nsw, ndvi_df, on='time')\n",
    "ndvi_yield"
   ]
  },
  {
   "cell_type": "code",
   "execution_count": null,
   "metadata": {},
   "outputs": [],
   "source": [
    "ndvi_yield.plot.scatter(x='ndvi', y='Yield_per_hectare_t')"
   ]
  },
  {
   "cell_type": "code",
   "execution_count": null,
   "metadata": {},
   "outputs": [],
   "source": [
    "from sklearn import linear_model\n",
    "\n",
    "X = np.asarray(ndvi_yield['ndvi']).reshape(-1, 1)\n",
    "y = ndvi_yield['Yield_per_hectare_t']\n",
    "\n",
    "lm = linear_model.LinearRegression()\n",
    "model = lm.fit(X,y)\n",
    "\n",
    "predictions = lm.predict(X)\n",
    "print(predictions)"
   ]
  },
  {
   "cell_type": "code",
   "execution_count": null,
   "metadata": {},
   "outputs": [],
   "source": [
    "plt.plot(X, predictions)"
   ]
  },
  {
   "cell_type": "code",
   "execution_count": null,
   "metadata": {},
   "outputs": [],
   "source": [
    "lm.score(X,y)"
   ]
  },
  {
   "cell_type": "code",
   "execution_count": null,
   "metadata": {
    "scrolled": false
   },
   "outputs": [],
   "source": [
    "fc_query  = {\n",
    "    'y': harden_lat,\n",
    "    'x': harden_lon,\n",
    "    'time': time_range\n",
    "}\n",
    "\n",
    "fc = dc.load(\n",
    "    product='ls8_fc_albers',\n",
    "    **fc_query,\n",
    ")"
   ]
  },
  {
   "cell_type": "code",
   "execution_count": null,
   "metadata": {},
   "outputs": [],
   "source": []
  }
 ],
 "metadata": {
  "kernelspec": {
   "display_name": "Python 3",
   "language": "python",
   "name": "python3"
  },
  "language_info": {
   "codemirror_mode": {
    "name": "ipython",
    "version": 3
   },
   "file_extension": ".py",
   "mimetype": "text/x-python",
   "name": "python",
   "nbconvert_exporter": "python",
   "pygments_lexer": "ipython3",
   "version": "3.6.7"
  }
 },
 "nbformat": 4,
 "nbformat_minor": 2
}
