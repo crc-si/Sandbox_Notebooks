{
 "cells": [
  {
   "cell_type": "markdown",
   "metadata": {},
   "source": [
    "# FrontierSI's Digital Earth Australia Sandbox\n",
    "\n",
    "Welcome to FrontierSI’s Digital Earth Australia (DEA) Sandbox. Here you can access an instance of the Open Data Cube (ODC) that has data indexed and ready to go. This sandbox utilises data products that Geoscience Australia have made available on their DEA public S3 storage. \n",
    "\n",
    "If you're new to Python, this sandbox will introduce you to a series of protoype apps that can be used to explore available Australian data. These come in the form of simple graphical user interfaces that will allow you to visualise various data products.\n",
    "\n",
    "If you are more familiar with Python, the sandbox provides a way to explore how the ODC API interacts with DEA products, demonstrating the power of accessing earth observation data on demand.\n",
    "\n",
    "#### ODC\n",
    "\n",
    "The apps we'll use in this notebook have been built on top of the ODC. The ODC is an open source library that provides an integrated gridded data analysis environment. It is capable of delivering decades of analysis ready earth observation satellite data, as well as related data from multiple satellite and other acquisition systems.\n",
    "\n",
    "The ODC manual can be found at http://datacube-core.readthedocs.io/en/latest/.\n",
    "\n",
    "#### To use the notebook ->  Click your mouse onto the cell below, and push ctrl+enter, or click the run button from the toolbox above."
   ]
  },
  {
   "cell_type": "code",
   "execution_count": null,
   "metadata": {},
   "outputs": [],
   "source": [
    "%store -r"
   ]
  },
  {
   "cell_type": "markdown",
   "metadata": {},
   "source": [
    "You have just installed our apps. In our app workflow, the first step is to select a case-study area. This can be done with the app below. When run, the app will compile a table of the available data products for the area.\n",
    "\n",
    "If you're familiar with Google Maps then this app will be easy to master, zoom in and out using the (+|-) buttons, once you've navigated to an area of interest.\n",
    "\n",
    "Please use the pan and zoom tools to find an area of interest and then select the rectangle draw tool from the toolbox panel, which will allow you to draw a rectangle over your desired case-study area. You will then see a table of what products are available and for what dates.\n",
    "\n",
    "_Note that you should select a reasonably small area, otherwise it will take a long time to load._\n",
    "\n",
    "## Define an area of interest\n",
    "\n",
    "To define your area of interest in space and time, do the following:\n",
    "\n",
    "* Click your mouse the cell below, and push ctrl+enter, or click the run button from the toolbox above\n",
    "* Pan and zoom until you have found an area of interest \n",
    "* Use the rectangle draw tool on the left of the map to outline of your area of interest\n",
    "* Select a date range for satellite data using the blue slider\n",
    "* Before you press the 'Query Cube' button, move to the next cell -- this will check the size of your selected case-study area. It will return a message to let you know if the area you've selected is a good size\n",
    "* Once you are happy with the case-study area and time range, press the 'Query Cube' button\n",
    "* The app will take some time to run, so please be patient. You'll know it's finished when you see a table of data products above the time slider"
   ]
  },
  {
   "cell_type": "code",
   "execution_count": null,
   "metadata": {},
   "outputs": [],
   "source": [
    "select_case_study_area"
   ]
  },
  {
   "cell_type": "code",
   "execution_count": null,
   "metadata": {},
   "outputs": [],
   "source": [
    "# Check the size of the case study area.\n",
    "import json\n",
    "import sys\n",
    "\n",
    "study_site_limit = 0.3\n",
    "\n",
    "with open('configIndex.txt') as f:\n",
    "    data = json.load(f)\n",
    "    site_size_lon = abs(data['lon'][1] - data['lon'][0])\n",
    "    site_size_lat = abs(data['lat'][1] - data['lat'][0])\n",
    "    \n",
    "    if site_size_lon > study_site_limit or site_size_lat > study_site_limit:\n",
    "        print(\"Careful, this study site might be too large!\", file=sys.stderr)\n",
    "    else:\n",
    "        print(\"Study site is a good size.\")"
   ]
  },
  {
   "cell_type": "markdown",
   "metadata": {},
   "source": [
    "\n",
    "<style>\n",
    "  table {margin-left: 0 !important;}\n",
    "</style>\n",
    "You can use any of the following apps to explore the area by typing the app name in a juptyter notebook cell and evaluating it. We've included these apps in their own cells at the end of this notebook if you want to try them out. Before running them, read the description to understand what each app does and confirm that the data set they query is present in the table returned by the case-study area app. \n",
    "\n",
    "|App|Description|Data Product|\n",
    "|----|:-----|----|\n",
    "|`sentinel_band_indices_app`|Enables querying the s2a_nrt_granule and s2b_nrt_granule products with points/polygons, and visualising responses as band indices derived on line graphs.|[Sentinel_Product Page](Sentinel_2_Product_Page.ipynb)|\n",
    "|`geomedian_landsat8_band_indices_app`|Enables querying the ls8_nbart_geomedian_annual products with points/polygons, and visualising band indices derived from landsat 8 products. |[Geomedian Product Page](Geomedian_Product_Page.ipynb)|\n",
    "|`geomedian_landsat7_band_indices_app`|Enables querying the ls7_nbart_geomedian_annual products with points/polygons, and visualising band indices derived from landsat 7 products. |[Geomedian Product Page](Geomedian_Product_Page.ipynb)|\n",
    "|`geomedian_landsat5_band_indices_app`|Enables querying the ls5_nbart_geomedian_annual products with points/polygons, and visualising band indices derived from landsat 5 products. |[Geomedian Product Page](Geomedian_Product_Page.ipynb)|\n",
    "|`fractional_cover_stack_plot_app`|Enables querying the ls8_fc_albers and wofs_albers products with points/polygons, and visualising landcover derived from landsat 8. |[Fractional Cover Product Page](Fractional_Cover_Product_Page.ipynb)|\n",
    "|`fractional_cover_line_plot_app`|Enables querying the ls8_fc_albers and wofs_albers products with points/polygons, and visualising landcover derived from landsat 8.| [Fractional Cover Product Page](Fractional_Cover_Product_Page.ipynb)|\n",
    "|`fractional_cover_stack_plot_extentplot_app`|Enables querying the ls8_fc_albers and wofs_albers products with points/polygons, and visualising landcover derived from landsat 8 both on a stack plot and a spatial extent.| [Fractional Cover Product Page](Fractional_Cover_Product_Page.ipynb)|"
   ]
  },
  {
   "cell_type": "markdown",
   "metadata": {},
   "source": [
    "## Case Studies\n",
    "\n",
    "If you're ready to move on, we've prepared the following case studies to demonstrate how these apps could be used for agriculture and mining.\n",
    "\n",
    "-  ## [Agriculture Case Study](casestudy_agriculture.ipynb)\n",
    "-  ## [Mining Case Study](casestudy_mining.ipynb)\n",
    "\n",
    "You may also continue to explore how the various apps work by running them in the cells below."
   ]
  },
  {
   "cell_type": "markdown",
   "metadata": {},
   "source": [
    "### Test out the available apps with the following cells"
   ]
  },
  {
   "cell_type": "markdown",
   "metadata": {},
   "source": [
    "You can try out all of the apps we listed in the previous table.\n",
    "\n",
    "When running the apps below, if you see the `Reload case study extent` message, it may be that the required data product was not available in the area/date range you selected. Check the output table from the query against the table of required data. If your current area does not have the required data, try a new area or date range. You can check the available data on the [DEA Dashboard](https://dashboard.dea-sandbox.test.frontiersi.io/) to guide your selection. When using the Dashboard, you can change the product from the drop-down menu above the map.\n",
    "\n",
    "To load the data for your new area and date range, return to the `select_case_study_area` app, select the area and date range, and then press the `Query Cube` button. You can then re-run the app of your choice to see the output."
   ]
  },
  {
   "cell_type": "code",
   "execution_count": null,
   "metadata": {
    "scrolled": false
   },
   "outputs": [],
   "source": [
    "sentinel_band_indices_app"
   ]
  },
  {
   "cell_type": "code",
   "execution_count": null,
   "metadata": {},
   "outputs": [],
   "source": [
    "geomedian_landsat8_band_indices_app"
   ]
  },
  {
   "cell_type": "code",
   "execution_count": null,
   "metadata": {},
   "outputs": [],
   "source": [
    "geomedian_landsat7_band_indices_app"
   ]
  },
  {
   "cell_type": "code",
   "execution_count": null,
   "metadata": {},
   "outputs": [],
   "source": [
    "geomedian_landsat5_band_indices_app"
   ]
  },
  {
   "cell_type": "code",
   "execution_count": null,
   "metadata": {
    "scrolled": false
   },
   "outputs": [],
   "source": [
    "fractional_cover_stack_plot_extentplot_app"
   ]
  },
  {
   "cell_type": "code",
   "execution_count": null,
   "metadata": {
    "scrolled": false
   },
   "outputs": [],
   "source": [
    "fractional_cover_stack_plot_app"
   ]
  },
  {
   "cell_type": "code",
   "execution_count": null,
   "metadata": {
    "scrolled": false
   },
   "outputs": [],
   "source": [
    "fractional_cover_line_plot_app"
   ]
  }
 ],
 "metadata": {
  "kernelspec": {
   "display_name": "Python 3",
   "language": "python",
   "name": "python3"
  },
  "language_info": {
   "codemirror_mode": {
    "name": "ipython",
    "version": 3
   },
   "file_extension": ".py",
   "mimetype": "text/x-python",
   "name": "python",
   "nbconvert_exporter": "python",
   "pygments_lexer": "ipython3",
   "version": "3.6.7"
  }
 },
 "nbformat": 4,
 "nbformat_minor": 2
}
