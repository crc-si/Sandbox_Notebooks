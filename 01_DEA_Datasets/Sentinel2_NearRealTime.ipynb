{
 "cells": [
  {
   "cell_type": "markdown",
   "metadata": {},
   "source": [
    "# Sentinel-2 - Near Real-Time Product\n",
    "\n",
    "The Sentinel-2 near real-time product is an analysis-ready, optical data set, available over Australia for the last 90 days. This notebook demonstrates how to load and display the Sentinel-2 near real-time (NRT) product for [central Canberra](https://www.google.com/maps/place/35%C2%B017'36.4%22S+149%C2%B007'30.7%22E/@-35.2940536,149.1073962,14.28z/data=!4m14!1m7!3m6!1s0x6b164d69b05c9021:0x500ea6ea7695660!2sCanberra+ACT+2601!3b1!8m2!3d-35.2809368!4d149.1300092!3m5!1s0x0:0x0!7e2!8m2!3d-35.2934324!4d149.1251798)."
   ]
  },
  {
   "cell_type": "markdown",
   "metadata": {},
   "source": [
    "## Step 1\n",
    "Import the necessary Python packages and initialise the datacube instance as `dc`."
   ]
  },
  {
   "cell_type": "code",
   "execution_count": null,
   "metadata": {},
   "outputs": [],
   "source": [
    "import datacube\n",
    "import matplotlib.pyplot as plt\n",
    "import xarray as xr\n",
    "import numpy as np\n",
    "import datetime as dt\n",
    "\n",
    "dc = datacube.Datacube(app='sentinel2-nrt')"
   ]
  },
  {
   "cell_type": "markdown",
   "metadata": {},
   "source": [
    "## Step 2\n",
    "Set the latitude, longitude and time bounds for the analysis. Bounds are given as `(min, max)`. Since the Sentinel-2 NRT product covers the last 90 days, this example loads one month of data from today."
   ]
  },
  {
   "cell_type": "code",
   "execution_count": null,
   "metadata": {
    "scrolled": false
   },
   "outputs": [],
   "source": [
    "canberra_latitude = (-35.25, -35.35)\n",
    "canberra_longitude = (149.05, 149.15)\n",
    "\n",
    "end_date = dt.date.today()\n",
    "start_date = end_date - dt.timedelta(days=30)\n",
    "canberra_time = (start_date, end_date)"
   ]
  },
  {
   "cell_type": "markdown",
   "metadata": {},
   "source": [
    "## Step 3\n",
    "Load the dataset for the specified bounds through the `dc.load()` command. The dataset to be loaded is given as the product. In this case, the two products are `s2a_nrt_granule` and `s2b_nrt_granule`, corresponding to the two [Sentinel-2 satellites](https://sentinel.esa.int/web/sentinel/missions/sentinel-2). After loading both products, they are combined into a single dataset called `sentinel2_nrt`. The measurements loaded for each product are the red, green and blue spectral bands (`nbar_red`, `nbar_green`, `nbar_blue`), and the pixel quality information `fmask`.  \n",
    "\n",
    "The data will take some time to load, indicated by the `In [*]` symbol to the left of the code cell. The load is finished when the `*` is replaced by a number. "
   ]
  },
  {
   "cell_type": "code",
   "execution_count": null,
   "metadata": {
    "scrolled": false
   },
   "outputs": [],
   "source": [
    "measurement_list = ['nbar_red', 'nbar_green', 'nbar_blue', 'fmask']\n",
    "\n",
    "sentinel2a = dc.load(\n",
    "    product='s2a_nrt_granule',\n",
    "    group_by='solar_day',\n",
    "    measurements=measurement_list,\n",
    "    latitude=canberra_latitude,\n",
    "    longitude=canberra_longitude,\n",
    "    time=canberra_time,\n",
    "    resolution=(-10,10),\n",
    "    output_crs='epsg:3577'\n",
    ")\n",
    "\n",
    "sentinel2b = dc.load(\n",
    "    product='s2b_nrt_granule',\n",
    "    group_by='solar_day',\n",
    "    latitude=canberra_latitude,\n",
    "    longitude=canberra_longitude,\n",
    "    time=canberra_time,\n",
    "    resolution=(-10,10),\n",
    "    output_crs='epsg:3577'\n",
    ")\n",
    "\n",
    "sentinel2_nrt = xr.concat([sentinel2a, sentinel2b], dim='time')"
   ]
  },
  {
   "cell_type": "markdown",
   "metadata": {},
   "source": [
    "## Step 4\n",
    "View the contents and properties of the loaded data by printing the `sentinel2_nrt` dataset. From the print out, note that the dataset has three dimensions (`time`, `x`, `y`) and data variables corresponding to the `measurement_list` provided in the previous cell. The `Dimensions` information reveals the number of entries for each dimension."
   ]
  },
  {
   "cell_type": "code",
   "execution_count": null,
   "metadata": {
    "scrolled": true
   },
   "outputs": [],
   "source": [
    "print(sentinel2_nrt)"
   ]
  },
  {
   "cell_type": "markdown",
   "metadata": {},
   "source": [
    "## Step 5\n",
    "\n",
    "Plot the true-colour image by combining the red (`nbar_red`), green (`nbar_green`) and blue (`nbar_blue`) measurements at a given time. Change the `timestep` variable to view the true-colour image on different dates."
   ]
  },
  {
   "cell_type": "code",
   "execution_count": null,
   "metadata": {},
   "outputs": [],
   "source": [
    "timestep = 0\n",
    "bands = ['nbar_red', 'nbar_green', 'nbar_blue']\n",
    "\n",
    "sentinel2_nrt[bands].isel(time=timestep).to_array().plot.imshow(robust=True, figsize=(8, 8))\n",
    "plt.show()"
   ]
  },
  {
   "cell_type": "markdown",
   "metadata": {},
   "source": [
    "## Step 6\n",
    "\n",
    "Calculate a mask layer to only select pixels that are valid. The pixel quality measurement for the Sentinel-2 near real-time product is stored in the `fmask` measurement. The values are described in the table below. In the following cell, the mask is constructed from all pixels that are classified as Null, Cloud or Cloud shadow, and inverted to track only clear pixels. The mask is then applied to the `sentinel2_nrt` data set to produce the `clear_sentinel2_nrt` data set, which can then be plotted.\n",
    "\n",
    "| `fmask` value | description   |\n",
    "|------|------|\n",
    "|   0  |Null |\n",
    "|   1  |Valid |\n",
    "|   2  |Cloud |\n",
    "|   3  |Cloud shadow |\n",
    "|   4  |Snow |\n",
    "|   5  |Water |"
   ]
  },
  {
   "cell_type": "code",
   "execution_count": null,
   "metadata": {},
   "outputs": [],
   "source": [
    "clear_pixels = np.isin(sentinel2_nrt.fmask, test_elements=[0, 2, 3], invert=True)\n",
    "sentinel2_nrt_clear = sentinel2_nrt.where(clear_pixels)\n",
    "\n",
    "sentinel2_nrt_clear[bands].isel(time=timestep).to_array().plot.imshow(robust=True, figsize=(8, 8))\n",
    "plt.show()"
   ]
  },
  {
   "cell_type": "code",
   "execution_count": null,
   "metadata": {},
   "outputs": [],
   "source": []
  }
 ],
 "metadata": {
  "kernelspec": {
   "display_name": "Python 3",
   "language": "python",
   "name": "python3"
  },
  "language_info": {
   "codemirror_mode": {
    "name": "ipython",
    "version": 3
   },
   "file_extension": ".py",
   "mimetype": "text/x-python",
   "name": "python",
   "nbconvert_exporter": "python",
   "pygments_lexer": "ipython3",
   "version": "3.6.7"
  }
 },
 "nbformat": 4,
 "nbformat_minor": 2
}
