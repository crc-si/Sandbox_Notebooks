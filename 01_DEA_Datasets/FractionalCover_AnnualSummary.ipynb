{
 "cells": [
  {
   "cell_type": "markdown",
   "metadata": {},
   "source": [
    "# Fractional Cover - Annual Summary\n",
    "\n",
    "The Fractional Cover Annual Summary contains the 10th, 50th and 90th percentiles of bare soil, green and non-green vegetation of observations acquired in each full calendar year (1st of January - 31st December) from 1987 to the most recent full calendar year. This notebook demonstrates how to load and display the Fractional Cover annual summary for the [lakes around Menindee](https://www.google.com/maps/place/Menindee+NSW+2879/@-32.3441363,142.2473895,10z/data=!4m5!3m4!1s0x6ae5e9de24c98fd7:0x40609b4904401c0!8m2!3d-32.3985324!4d142.4139158)."
   ]
  },
  {
   "cell_type": "markdown",
   "metadata": {},
   "source": [
    "## Step 1\n",
    "Import the necessary Python packages and initialise the datacube instance as `dc`."
   ]
  },
  {
   "cell_type": "code",
   "execution_count": null,
   "metadata": {},
   "outputs": [],
   "source": [
    "import datacube\n",
    "import matplotlib.pyplot as plt\n",
    "\n",
    "dc = datacube.Datacube(app='fc-annualsummary')"
   ]
  },
  {
   "cell_type": "markdown",
   "metadata": {},
   "source": [
    "## Step 2\n",
    "Set the latitude, longitude and time bounds for the analysis. Bounds are given as `(min, max)`."
   ]
  },
  {
   "cell_type": "code",
   "execution_count": null,
   "metadata": {
    "scrolled": false
   },
   "outputs": [],
   "source": [
    "menindee_latitude = (-32.2, -32.55)\n",
    "menindee_longitude = (142.15, 142.6)\n",
    "menindee_time = ('2000-01-01', '2017-12-31')"
   ]
  },
  {
   "cell_type": "markdown",
   "metadata": {},
   "source": [
    "## Step 3\n",
    "Load the dataset for the specified bounds through the `dc.load()` command. The dataset to be loaded is given as the product. In this case, the product is `fc_percentile_albers_annual`. The data will take some time to load, indicated by the `In [*]` symbol to the left of the code cell. The load is finished when the `*` is replaced by a number. "
   ]
  },
  {
   "cell_type": "code",
   "execution_count": null,
   "metadata": {},
   "outputs": [],
   "source": [
    "fc_percentile_albers_annual = dc.load(\n",
    "    product='fc_percentile_albers_annual',\n",
    "    latitude=menindee_latitude,\n",
    "    longitude=menindee_longitude,\n",
    "    time=menindee_time,\n",
    ")"
   ]
  },
  {
   "cell_type": "markdown",
   "metadata": {},
   "source": [
    "## Step 4\n",
    "View the contents and properties of the loaded data by printing the `fc_percentile_albers_annual` dataset. From the print out, note that the dataset has three dimensions (`time`, `x`, `y`) and nine data variables reprensenting 10th/50th/90th percentiles for `BS` (Bare Soil), `PV` (Green Vegetation), and `NPV` (Non-green Vegetation). For example, the measurement for the 90th percentile of Bare Soil (BS) would be `BS_PC_90`."
   ]
  },
  {
   "cell_type": "code",
   "execution_count": null,
   "metadata": {},
   "outputs": [],
   "source": [
    "print(fc_percentile_albers_annual)"
   ]
  },
  {
   "cell_type": "markdown",
   "metadata": {},
   "source": [
    "## Step 5\n",
    "\n",
    "Plot the annual summary `BS_PC_90` measurement for `2002`. The `BS_PC_90` measurement reprentents the 90th percentile of Bare Soil for `2002` which can identify pixels that have experienced a high portion of bare soil during that year. "
   ]
  },
  {
   "cell_type": "code",
   "execution_count": null,
   "metadata": {},
   "outputs": [],
   "source": [
    "fc_percentile_albers_annual.NPV_PC_90.sel(time='2002-01-01').plot()\n",
    "plt.show()"
   ]
  }
 ],
 "metadata": {
  "kernelspec": {
   "display_name": "Python 3",
   "language": "python",
   "name": "python3"
  },
  "language_info": {
   "codemirror_mode": {
    "name": "ipython",
    "version": 3
   },
   "file_extension": ".py",
   "mimetype": "text/x-python",
   "name": "python",
   "nbconvert_exporter": "python",
   "pygments_lexer": "ipython3",
   "version": "3.6.7"
  }
 },
 "nbformat": 4,
 "nbformat_minor": 2
}
