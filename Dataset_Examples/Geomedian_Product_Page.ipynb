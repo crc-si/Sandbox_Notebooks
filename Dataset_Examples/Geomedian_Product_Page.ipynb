{
 "cells": [
  {
   "cell_type": "markdown",
   "metadata": {},
   "source": [
    "# Geomedian Mosaics\n",
    "\n",
    "#### Background: \n",
    "The surface reflectance geometric median (geomedian) is a pixel composite mosaic of a time series of earth observations. Essentially the value of a pixel in a geomedian image is the statistical median of all observations for that pixel over a period of time. An annual geometric median is a high-dimensional median calculated from the reflectance values drawn from a calendar year. The years available are each full calendar year since 1988. The annual geometric medians of surface reflectance measurements are calculated per calendar year, on individual sensors (ie. only Landsat 5 TM or Landsat 7 ETM+ or Landsat 8 OLI).\n",
    "\n",
    "Geomedian data have been generated from yearly stacks of imagery for Landsat5, Landsat 7 and Landsat 8, they're cloud free and can represent annual change.\n",
    "\n",
    "#### Bands Available\n",
    "\n",
    "-  Red\n",
    "-  Green\n",
    "-  Blue\n",
    "-  nir\n",
    "-  swir1\n",
    "-  swir2\n",
    "\n",
    "#### How to use this notebook\n",
    "\n",
    "This notebook has been designed to interogate fractional cover information stored on the public data from Digital Earth Australia. \n",
    "\n",
    "What capabilties are sampled.\n",
    "\n",
    "-  This app will utilise the case study area selected on the landing page.\n",
    "-  Explore geomedian band indices using the geomedian band indices app. \n",
    "-  User able to export out into csv or excel an output containing interogated data.\n",
    "-  User is able to export loaded case study as netcdf\n",
    "        \n",
    "\n",
    "The Jupyter app allows users to draw a polygon or point over a case study display a stacked plot, and summarise data in a table. \n",
    "\n",
    "\n",
    "### To execute a cell - click on the cell and push cntrl + enter\n",
    "\n"
   ]
  },
  {
   "cell_type": "code",
   "execution_count": null,
   "metadata": {},
   "outputs": [],
   "source": [
    "%store -r"
   ]
  },
  {
   "cell_type": "markdown",
   "metadata": {},
   "source": [
    "Macros have been loaded in to this environment and are essentially python code that builds app user interface, and code that uses the ODC python API to retrieve a datacube for interogation. The above command loads into the work space the apps that have been created.\n"
   ]
  },
  {
   "cell_type": "markdown",
   "metadata": {},
   "source": [
    "Geomedians are mainly usefull as visual representations of satellite imagery and are useful base-maps in earth observation, these mosaics can also be used to provide users with a base-line understanding of the yearly land changes. The following apps have been designed to demonstrate that use case,further on in the notebook we also demonstrate how to export the mosaic to view in an external GIS package.\n",
    "\n",
    "## Geomedian Band Indices Landsat 5, 7 and 8 App.\n",
    "\n",
    "This app will load yearly geomedians data for the region selected over the select case study region app, and enables users to compare band indices over the same line graph.\n",
    "\n",
    "Please Select a Band index on the above the map, information corresponding to the selected band index will be displated in the information tab.\n",
    "\n",
    "Please use the draw point tool to select a single pixel region the tool will compile corresponding band index information into a table and add the information into a band index graph.\n",
    "\n",
    "Please use the draw polygon tool to select a region the tool will summarise  corresponding band index information then compile into a table and add the information into a band index graph.\n",
    "\n",
    "Each interogation will be compiled into the same table and displayed on the same graphs.\n",
    "\n",
    "\n",
    "### This app also retrieves data from the public facing DEA before it loads. Do wait!!\n",
    "\n",
    "## For Landsat 8 make sure landing page dates cover 2013-01-01 -- 2017-01-01 otherwise this app will return an error."
   ]
  },
  {
   "cell_type": "code",
   "execution_count": null,
   "metadata": {
    "scrolled": false
   },
   "outputs": [],
   "source": [
    "geomedian_landsat8_band_indices_app"
   ]
  },
  {
   "cell_type": "markdown",
   "metadata": {},
   "source": [
    "## For Landsat 7 make sure landing page dates cover 2000-01-01 -- 2017-01-01 otherwise this app will return an error."
   ]
  },
  {
   "cell_type": "code",
   "execution_count": null,
   "metadata": {},
   "outputs": [],
   "source": [
    "geomedian_landsat7_band_indices_app"
   ]
  },
  {
   "cell_type": "markdown",
   "metadata": {},
   "source": [
    "## For Landsat 5 make sure landing page dates cover 1988-01-01 -- 2011-01-01 otherwise this app will return an error."
   ]
  },
  {
   "cell_type": "code",
   "execution_count": null,
   "metadata": {},
   "outputs": [],
   "source": [
    "geomedian_landsat5_band_indices_app"
   ]
  }
 ],
 "metadata": {
  "kernelspec": {
   "display_name": "Python 3",
   "language": "python",
   "name": "python3"
  },
  "language_info": {
   "codemirror_mode": {
    "name": "ipython",
    "version": 3
   },
   "file_extension": ".py",
   "mimetype": "text/x-python",
   "name": "python",
   "nbconvert_exporter": "python",
   "pygments_lexer": "ipython3",
   "version": "3.6.7"
  }
 },
 "nbformat": 4,
 "nbformat_minor": 2
}
