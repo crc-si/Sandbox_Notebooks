{
 "cells": [
  {
   "cell_type": "markdown",
   "metadata": {},
   "source": [
    "# Sentinel 2a and Sentinel 2b\n",
    "\n",
    "#### Background: \n",
    "The full SENTINEL-2 mission comprises twin polar-orbiting satellites in the same orbit, phased at 180Â° to each other. The mission carries optical sensors and monitors variability in land surface conditions between the two orbiting satellites there is a return period of 5 days.\n",
    "\n",
    "The Surface Reflectance product has been corrected to account for variations caused by atmospheric properties, sun position and sensor view angle at time of image capture. These corrections have been applied to all satellite imagery in the Sentinel-2 archive. This is undertaken to allow comparison of imagery acquired at different times, by different sensors, in different seasons and in different geographic locations. These products also indicate where the imagery has been affected by cloud or cloud shadow, contains missing data or has been affected in other ways. Near Real-Time capability provides analysis-ready data that is processed on receipt using best-available ancillary information to provide atmospheric corrections.\n",
    "\n",
    "#### Bands Available\n",
    "\n",
    "-  nbar_red\n",
    "-  nbar_green\n",
    "-  nbar_blue\n",
    "-  nbar_nir_1\n",
    "-  nbar_swir_2\n",
    "-  nbar_swir_3\n",
    "\n",
    "#### How to use this notebook\n",
    "\n",
    "This note book has been designed to interogate available Sentinel data on stored on the public facing DEA (Digital Earth Australia). \n",
    "\n",
    "What capabilties are sampled.\n",
    "\n",
    "-  This app will utilise the case study area selected on the landing page.\n",
    "-  Explore Sentinel 2 data through the band indices. \n",
    "-  User able to export out into csv or excel an output containing interogated data.\n",
    "-  User is able to export loaded case study as netcdf\n",
    "        \n",
    "\n",
    "The jupyter app allows users to draw a polygon or point over a case study display a stacked plot, and summarise data in a table. \n",
    "\n",
    "\n",
    "### To execute a cell - click on the cell and push cntrl + enter\n",
    "\n"
   ]
  },
  {
   "cell_type": "code",
   "execution_count": null,
   "metadata": {},
   "outputs": [],
   "source": [
    "%store -r"
   ]
  },
  {
   "cell_type": "markdown",
   "metadata": {},
   "source": [
    "Macros have been loaded in to this environment and are essentially python code that builds app user interface, and code that uses the ODC python API to retrieve a datacube for interogation. The above command loads into the work space the apps that have been created.\n"
   ]
  },
  {
   "cell_type": "markdown",
   "metadata": {},
   "source": [
    "## Sentinel App.\n",
    "\n",
    "This app will load data sentinel 2a and 2b products, the app filters imagery for clouds and cloud shadow over the area selected in the select_case_study_region app, and enables users to compare band indices over the same line graph.\n",
    "\n",
    "Please Select a Band index on the above the map, information corresponding to the selected band index will be displated in the information tab.\n",
    "\n",
    "Please use the draw point tool to select a single pixel region the tool will compile corresponding band index information into a table and add the information into a band index graph.\n",
    "\n",
    "Please use the draw polygon tool to select a region the tool will summarise  corresponding band index information then compile into a table and add the information into a band index graph.\n",
    "\n",
    "Each interogation will be compiled into the same table and displayed on the same graphs.\n",
    "\n",
    "\n",
    "### This app also retrieves data from the public facing DEA before it loads. Do wait!!"
   ]
  },
  {
   "cell_type": "code",
   "execution_count": null,
   "metadata": {},
   "outputs": [],
   "source": [
    "sentinel_band_indices_app"
   ]
  }
 ],
 "metadata": {
  "kernelspec": {
   "display_name": "Python 3",
   "language": "python",
   "name": "python3"
  },
  "language_info": {
   "codemirror_mode": {
    "name": "ipython",
    "version": 3
   },
   "file_extension": ".py",
   "mimetype": "text/x-python",
   "name": "python",
   "nbconvert_exporter": "python",
   "pygments_lexer": "ipython3",
   "version": "3.6.7"
  }
 },
 "nbformat": 4,
 "nbformat_minor": 2
}
