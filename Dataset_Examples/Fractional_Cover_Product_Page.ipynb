{
 "cells": [
  {
   "cell_type": "markdown",
   "metadata": {},
   "source": [
    "## What is Fractional Cover? [[1, 2](#References)]\n",
    "\n",
    "The Landsat Fractional Cover product stored in DEA is at 25m x 25m resolution (the same as the Landsat surface reflectance products).\n",
    "\n",
    "Fractional Cover represents the proportion of the land surface\n",
    "that is bare (BS), covered by photosynthetic vegetation (PV), or non-photosynthetic vegetation (NPV). \n",
    "\n",
    "The Fractional Cover product was generated using the spectral unmixing algorithm developed by the Joint Remote Sensing Research Program (JRSRP) [[2](#References)] which used the spectral signature for each pixel to break it up into three fractions, based on field work that determined the spectral characteristics of these fractions. [[1](#References)]The fractions were retrieved by inverting multiple linear regression estimates and using synthetic endmembers in a constrained non-negative least squares unmixing model.[[1](#References)]\n",
    "\n",
    "The green (PV) fraction includes leaves and grass, the non-photosynthetic fraction (NPV) includes branches, dry grass and dead leaf litter, and the bare soil (BS) fraction includes bare soil or rock.[[1](#References)]\n",
    "\n",
    "## What is WOFS?\n",
    "\n",
    "Water Observations from Space (WOfS) is a web service displaying historical surface water observations derived from satellite imagery for all of Australia from 1987 to present day. WOfS aims is to allow better understanding of where water is usually present; where it is seldom observed; and where inundation of the surface has been occasionally observed by satellite. WOfS displays the detected surface water from the Australia-wide Landsat 5 and Landsat 7 satellite imagery archive.\n",
    "\n",
    "For each grid cell within the map, WOfS displays:\n",
    "\n",
    "-  the number of clear satellite observations over the period (1987 to present)\n",
    "-  the number of occasions water was detected\n",
    "-  the percentage of clear observations on which water was detected, and\n",
    "-  the confidence (or probability) that a water observation in this location is correct. This is a percentage, based on a number of factors including the slope of the land and the existence of other corroborative evidence.\n",
    "\n",
    "WOFS is used to filter out cells where water is present, and add the landcover of water to the fractional cover analysis.\n",
    "\n",
    "\n",
    "### Fractional Cover Bands: [[1](#References)]\n",
    "\n",
    "- **Bare Soil (bare ground, rock, disturbed) (BS):**  - Bare Ground (bare soil, rock) percentage; Digital Number 10000 = 100%\n",
    "\n",
    "- **Photosythetic Vegetation. (green grass, trees, etc.) (PV):**  - Photosynthetic Vegetation: Green Vegetation percentage;Digital Number 10000 = 100%\n",
    "\n",
    "- **Non-Photosythetic vegetation (litter, dead leaf and branches) (NPV):** - Non-Photosynthetic Vegetation (litter, dead leaves andbranches) percentage; Digital Number 10000 = 100%\n",
    "\n",
    "- **Unmixing Error (UE):**  - Unmixing Error. The residual error, defined as the Euclidean Norm of the Residual Vector. High values express less confidence in the fractional components.\n",
    "    \n",
    "__No Data Values:__ Fractional cover contains no data values (-1)\n",
    "we use the datacube storage function \"masking.mask_invalid_data\" to remove these from our data before using the data\n",
    "\n",
    "### Limitations, Errors and Uncertainty:\n",
    "\n",
    "__Water and soil moisture:__\n",
    "Pixels over water may show incorrect values for Photosynthetic Vegetation. [[1](#References)] Water has been been masked out, using WOfS. Soil moisture may affect the accuracy of the product [[1](#References)]. \n",
    "\n",
    "__Sums greater than 100%:__\n",
    "\"Occasionally the sum of the three components is not equal to 100%. Differences are usually small and are not rounded in order to preserve what may be useful seasonal indicators. \"[[1](#References)]\n",
    "\n",
    "__Similarity between Bare Soil and NPV:__\n",
    "Model can perform badly on pixels where bare soil and NPV endmembers are similar. [[1](#References)]\n",
    "\n",
    "__Compared to field data:__\n",
    "\"Based on the comparison with the field data the FC25 product has an overall Root Mean Squared Error (RMSE) of 11.8%. The error margins vary for the three different layers: green RMSE: 11.0%, non-green RMSE: 17.4% and bare RMSE: 12.5%\" [[1](#References)]\n",
    "\n",
    "### How to use this notebook\n",
    "\n",
    "This note book has been designed to interogate fractional cover information stored on the public facing DEA (Digital Earth Australia). \n",
    "\n",
    "What capabilties are sampled.\n",
    "\n",
    "    - ** This app will utilise the case study area selected on the landing page.\n",
    "    - ** Explore fractional cover using line plots and stack plots.\n",
    "    - ** User able to export out into csv or excel an output containing interogated data.\n",
    "    - ** User is able to export loaded case study as netcdf\n",
    "        \n",
    "\n",
    "The jupyter app allows users to draw a polygon or point over a case study display a stacked plot, and summarise data in a table. \n",
    "\n",
    "\n",
    "\n",
    "### To execute a cell - click on the cell and push cntrl + enter\n",
    "\n"
   ]
  },
  {
   "cell_type": "code",
   "execution_count": null,
   "metadata": {},
   "outputs": [],
   "source": [
    "%store -r"
   ]
  },
  {
   "cell_type": "markdown",
   "metadata": {},
   "source": [
    "Macros have been loaded in to this environment and are essentially python code that builds app user interface, and code that uses the ODC python API to retrieve a datacube for interogation. The above command loads into the work space the apps that have been created.\n",
    "\n"
   ]
  },
  {
   "cell_type": "markdown",
   "metadata": {},
   "source": [
    "## Fractional Cover Line Plot App\n",
    "\n",
    "This app will load fractional cover data for the region selected on the select case study region app, and enables users to compare cover over the same line graph.\n",
    "\n",
    "The app will mask out any landsat cells in which water was detected and include that in the landcover summary.\n",
    "\n",
    "Please use the draw point tool to select a single pixel, this tool will compile fractional cover information a table and display a each item of it on seperate line graphs.\n",
    "\n",
    "Please use the draw polygon tool to select a region, this tool will compile fractional cover information in a table and display each item on seperate line graphs. \n",
    "\n",
    "-  The line plot y-axis represent landcover as a percentage of the total area of the interogating polygon or point.\n",
    "-  The table shows total area per landcover.\n",
    "\n",
    "Each interogation will be compiled into the same table but displayed on different graphs.\n",
    "\n",
    "### This app also retrieves data from the public facing DEA before it loads. Do wait!!\n",
    "\n"
   ]
  },
  {
   "cell_type": "code",
   "execution_count": null,
   "metadata": {
    "scrolled": false
   },
   "outputs": [],
   "source": [
    "fractional_cover_line_plot_app"
   ]
  },
  {
   "cell_type": "markdown",
   "metadata": {},
   "source": [
    "For more advanced python users all elements of the cube can be extracted as per the below cells demonstrate."
   ]
  },
  {
   "cell_type": "markdown",
   "metadata": {},
   "source": [
    "Once this tool has run you are able to access the created objects"
   ]
  },
  {
   "cell_type": "code",
   "execution_count": null,
   "metadata": {},
   "outputs": [],
   "source": [
    "print (ds_all) ###This is the data cube object."
   ]
  },
  {
   "cell_type": "code",
   "execution_count": null,
   "metadata": {},
   "outputs": [],
   "source": [
    "print (output_pandas) ###This is the compiled table"
   ]
  },
  {
   "cell_type": "code",
   "execution_count": null,
   "metadata": {},
   "outputs": [],
   "source": [
    "print (geoJSONs) # This is the shape drawn in GeoJSON IDs corresponding to the compiled table."
   ]
  },
  {
   "cell_type": "markdown",
   "metadata": {},
   "source": [
    "## Fractional Cover Line Plot App\n",
    "\n",
    "This app will load fractional cover data for the region selected on the select case study region app, and enables users to view land cover on a stack plot. A stacked graph is useful for looking at changes in landcover added up over time, across all four components the graph creates a richer picture of (the sum of) changes.\n",
    "\n",
    "The app will mask out any landsat cells in which water was detected and include that in the landcover summary.\n",
    "\n",
    "Please use the draw point tool to select a single pixel, this tool will compile fractional cover information in a table and display a seperate stack plot per point.\n",
    "\n",
    "Please use the draw polygon tool to select a region, this tool will compile fractional cover information in a table and display a seperate stack plot per polygon.\n",
    "\n",
    "-  The line plot y-axis shows area.\n",
    "-  The table shows total area per landcover.\n",
    "\n",
    "Each interogation will be compiled into the same table but displayed on different graphs.\n",
    "\n",
    "### This app also retrieves data from the public facing DEA before it loads. Do wait!!\n",
    "\n"
   ]
  },
  {
   "cell_type": "code",
   "execution_count": null,
   "metadata": {
    "scrolled": false
   },
   "outputs": [],
   "source": [
    "fractional_cover_stack_plot_app"
   ]
  }
 ],
 "metadata": {
  "kernelspec": {
   "display_name": "Python 3",
   "language": "python",
   "name": "python3"
  },
  "language_info": {
   "codemirror_mode": {
    "name": "ipython",
    "version": 3
   },
   "file_extension": ".py",
   "mimetype": "text/x-python",
   "name": "python",
   "nbconvert_exporter": "python",
   "pygments_lexer": "ipython3",
   "version": "3.6.7"
  }
 },
 "nbformat": 4,
 "nbformat_minor": 2
}
