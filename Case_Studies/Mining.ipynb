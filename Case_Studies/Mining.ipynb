{
 "cells": [
  {
   "cell_type": "markdown",
   "metadata": {},
   "source": [
    "# Mining Case Study\n",
    "### Background\n",
    "\n",
    "The Department of Mines, Industry Regulation and Safety's (DMIRS) Mining Rehabilitation Fund (MRF) is a pooled fund that Western Australian mining operators contribute to. The Mining Rehabilitation Fund Act 2012, which provides the framework for the fund, was enacted in 2012.\n",
    "The MRF data is published on DMIRS's website annually. Released data shows ground disturbance as reported by the tenement holder and can be found in the 'MRF documents' section of [this web page](http://www.dmp.wa.gov.au/Environmental-Assessment-and-1471.aspx).\n",
    "\n",
    "For the first time, this data establishes how much land is actually disturbed in each year by exploration and mining activities on Mining Act tenure. The data builds on the information collected and monitored by DMIRS when it approves and monitors a project. It can be used to provide a liability estimate for each mining company based on the level and type of disturbance along with the amount of rehabilitation that has been conducted on a tenement.\n",
    "\n",
    "### The Problem\n",
    "\n",
    "At the moment, most mining organisations only review disturbance annually, and often contract out the service to third party surveying and ecological consulting agencies. While these providers generally provide excellent information, there are two main issues:\n",
    "\n",
    "-  With annual visits to site it is near impossible to see new disturbance events (land slips, tunnel collapses causing on surface disturbance, etc) before the next year’s survey.\n",
    "-  There is no way to validate or sanity check consultants reports without a site visit.\n",
    "\n",
    "### Digital Earth Australia Use Case\n",
    "Satellite Imagery can be used to address the above two problems.\n",
    "Land disturbance can be monitored by tracking the amount of bare ground on the site compared with surrounding areas. A slow increase or sharp spike in the amount of bare ground over a mining site would indicate increased disturbance, which is against the trend expected during rehabilitation efforts. This tracking can be achieved using the Fractional Cover data product from DEA.\n",
    "This would allow companies to identify any disturbance events early in the year and take corrective action before the yearly reporting. This would minimise the liability due to the MRF.\n",
    "This same data product can be used to validate the field reporting from surveying and ecological consultants before submitting reports. While reports from field surveys will provide more detail than most Earth Observation data products, such products provide the ability to provide context and validation of reports.\n",
    "For example, if the survey detects a disturbance, it may be hard to detect a reason. DEA data and derived products can be used to identify the point in time, and possibly the cause of each disturbance event.\n",
    "\n",
    "The below worked example takes users through the code required to:\n",
    "-  Create a time series data cube over a mine site.\n",
    "-  Select relevant data products for analysis.\n",
    "-  Create graphs to identify rehabilitation trends and disturbance events.\n",
    "-  Interpret the results.\n",
    "\n",
    "**To begin, let's add our apps to the current notebook. Click on the cell below and either click run from the toolbar above or click control+enter on your keyboard. The following cell also loads a configuration file that allows us to access the necessary data.**"
   ]
  },
  {
   "cell_type": "code",
   "execution_count": null,
   "metadata": {},
   "outputs": [],
   "source": [
    "# Add the apps\n",
    "%store -r \n",
    "\n",
    "# Load the Mining Case Study\n",
    "global case_study\n",
    "case_study = './mining_config.txt'"
   ]
  },
  {
   "cell_type": "code",
   "execution_count": null,
   "metadata": {
    "scrolled": false
   },
   "outputs": [],
   "source": [
    "fractional_cover_line_plot_app"
   ]
  },
  {
   "cell_type": "markdown",
   "metadata": {},
   "source": [
    "### You can also test out the following app on this data"
   ]
  },
  {
   "cell_type": "code",
   "execution_count": null,
   "metadata": {
    "scrolled": false
   },
   "outputs": [],
   "source": [
    "fractional_cover_stack_plot_app"
   ]
  }
 ],
 "metadata": {
  "kernelspec": {
   "display_name": "Python 3",
   "language": "python",
   "name": "python3"
  },
  "language_info": {
   "codemirror_mode": {
    "name": "ipython",
    "version": 3
   },
   "file_extension": ".py",
   "mimetype": "text/x-python",
   "name": "python",
   "nbconvert_exporter": "python",
   "pygments_lexer": "ipython3",
   "version": "3.6.7"
  }
 },
 "nbformat": 4,
 "nbformat_minor": 2
}
