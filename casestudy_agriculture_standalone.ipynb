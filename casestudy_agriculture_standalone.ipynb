{
 "cells": [
  {
   "cell_type": "markdown",
   "metadata": {},
   "source": [
    "# Agriculture Case Study\n",
    "\n",
    "### Background\n",
    "During a normal year, sugar cane in Queensland typically flowers early May through June; July to November is typically cane harvesting season.\n",
    "\n",
    "### The Problem\n",
    "While sugar is growing, fields may look visually similar, but health or growth rates from these fields can be quite different, leading to variability and unpredictability in revenue. Identifying underperforming crops can have two benefits:\n",
    "\n",
    "-  Ability to scout for frost or disease damage.\n",
    "-  Ability to investigate poor performing paddocks and undertake management action such soil testing or targeted fertilising to improve yield.\n",
    "\n",
    "### Digital Earth Australia Use Case\n",
    "Satellite Imagery can be used to measure pasture health over time and identify any changes in growth patterns between otherwise similar paddocks.\n",
    "\n",
    "The Normalised Difference Vegetation Index (NDVI) describes the difference between visible and near-infrared reflectance of vegetation cover. This index estimates the density of green on an area of land and can be used to track the health and growth of sugar as it matures. Comparing the NDVI of two similar paddocks will help to identify any anomalies in growth patterns.\n",
    "\n",
    "In this example, data from the European Sentinel 2 satellites is used to make a near real-time assessment of crop growing patterns, facillitating management decisions in the field. This data is made available through the Copernicus Regional Data Hub and Digital Earth Australia within 1-2 days of capture.\n",
    "\n",
    "The worked example below takes users through the code required to:\n",
    "-  Create a time series data cube over a farming property.\n",
    "-  Select multiple paddocks for comparison.\n",
    "-  Create graphs to identify crop performance trends over the previous month.\n",
    "-  Interpret the results.\n",
    "\n",
    "### Technical details\n",
    "\n",
    "Products used: NDVI\n",
    "Satellite data / Time series: Sentinel 2 / Near real time provision over 30 days\n",
    "\n",
    "**To begin, let's add our apps to the current notebook. Click on the cell below and either click run from the toolbar above or click control+enter on your keyboard. The following cell also loads a configuration file that allows us to access the necessary data.**"
   ]
  },
  {
   "cell_type": "code",
   "execution_count": null,
   "metadata": {},
   "outputs": [],
   "source": [
    "%matplotlib notebook\n",
    "import matplotlib as mpl\n",
    "mpl.rcParams.update({'figure.autolayout': True})\n",
    "\n",
    "from utils.casestudy_agriculture_functions import load_agriculture_data, run_agriculture_app"
   ]
  },
  {
   "cell_type": "code",
   "execution_count": null,
   "metadata": {},
   "outputs": [],
   "source": [
    "ds_s2_test = load_agriculture_data()"
   ]
  },
  {
   "cell_type": "code",
   "execution_count": null,
   "metadata": {},
   "outputs": [],
   "source": [
    "run_agriculture_app(ds_s2_test)"
   ]
  }
 ],
 "metadata": {
  "kernelspec": {
   "display_name": "Python 3",
   "language": "python",
   "name": "python3"
  },
  "language_info": {
   "codemirror_mode": {
    "name": "ipython",
    "version": 3
   },
   "file_extension": ".py",
   "mimetype": "text/x-python",
   "name": "python",
   "nbconvert_exporter": "python",
   "pygments_lexer": "ipython3",
   "version": "3.6.7"
  }
 },
 "nbformat": 4,
 "nbformat_minor": 2
}
