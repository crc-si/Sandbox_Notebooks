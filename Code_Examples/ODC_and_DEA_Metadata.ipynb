{
 "cells": [
  {
   "cell_type": "markdown",
   "metadata": {},
   "source": [
    "# The Open Data Cube and Metadata\n",
    "\n",
    "The ODC has been purposely built to access and analyse earth observation data and metadata. In this notebook, we will explore basic methods that can be used to extract metadata from DEA products stored on the public s3, which we have indexed into our instance of the ODC."
   ]
  },
  {
   "cell_type": "code",
   "execution_count": null,
   "metadata": {},
   "outputs": [],
   "source": [
    "# First we will load some Python modules\n",
    "import datacube\n",
    "import pandas\n",
    "\n",
    "# And we set some configuration\n",
    "%matplotlib inline\n",
    "pandas.set_option('display.max_colwidth', 200)\n",
    "pandas.set_option('display.max_rows', None)"
   ]
  },
  {
   "cell_type": "markdown",
   "metadata": {},
   "source": [
    "## First steps\n",
    "Let's explore what products have been indexed into our ODC instance and what associated information there is available within the metadata."
   ]
  },
  {
   "cell_type": "code",
   "execution_count": null,
   "metadata": {},
   "outputs": [],
   "source": [
    "dc = datacube.Datacube(app='metadata-demo') # Start a datacube instance.\n"
   ]
  },
  {
   "cell_type": "code",
   "execution_count": null,
   "metadata": {},
   "outputs": [],
   "source": [
    "products = dc.list_products() # Get all available product information\n",
    "products"
   ]
  },
  {
   "cell_type": "code",
   "execution_count": null,
   "metadata": {},
   "outputs": [],
   "source": [
    "# Here we search products for those that match the string 's2', i.e., Sentinel\n",
    "products[products['name'].str.match('s2')]\n"
   ]
  },
  {
   "cell_type": "code",
   "execution_count": null,
   "metadata": {},
   "outputs": [],
   "source": [
    "# Measurements are variables that are available for a product\n",
    "measurements = dc.list_measurements() # Get all measurement information\n",
    "measurements"
   ]
  },
  {
   "cell_type": "markdown",
   "metadata": {},
   "source": [
    "## Querying Metadata for an Individual Dataset\n",
    "\n",
    "This is an example of a basic query. More advanced queries can be done to filter based on product lineage, among other things."
   ]
  },
  {
   "cell_type": "code",
   "execution_count": null,
   "metadata": {},
   "outputs": [],
   "source": [
    "dc = datacube.Datacube(app='advance-query-example')\n",
    "scenes = dc.find_datasets(\n",
    "    product='s2a_nrt_granule', \n",
    "    time=('2018-09-01', ('2018-10-01')),\n",
    "    x=(146.30, 146.40), y=(-43.30,-43.20)\n",
    ")\n",
    "scenes"
   ]
  },
  {
   "cell_type": "code",
   "execution_count": null,
   "metadata": {},
   "outputs": [],
   "source": [
    "for scene in scenes:\n",
    "    uid =  scene.id\n",
    "    bounds = scene.bounds\n",
    "    time = scene.center_time\n",
    "\n",
    "    print(\"uid: {},\\t date: {},\\t bounds: {}\".format(\n",
    "        uid,\n",
    "        time.date(),\n",
    "        [bounds.left, bounds.bottom, bounds.right, bounds.top]\n",
    "    ))\n"
   ]
  },
  {
   "cell_type": "code",
   "execution_count": null,
   "metadata": {},
   "outputs": [],
   "source": [
    "dir(scenes[0].metadata)"
   ]
  },
  {
   "cell_type": "code",
   "execution_count": null,
   "metadata": {
    "scrolled": false
   },
   "outputs": [],
   "source": [
    "for scene in scenes:\n",
    "    print ('location of metadata:\\n')\n",
    "    print (scene.id)\n",
    "    print (scene.uris)\n",
    "    print ('---------------------\\n')\n",
    "    \n",
    "    for measurement in scene.measurements:\n",
    "        print(\"insturement: {},\\t path: {}\".format(measurement, scenes[0].measurements[measurement]['path']))"
   ]
  }
 ],
 "metadata": {
  "kernelspec": {
   "display_name": "Python 3",
   "language": "python",
   "name": "python3"
  },
  "language_info": {
   "codemirror_mode": {
    "name": "ipython",
    "version": 3
   },
   "file_extension": ".py",
   "mimetype": "text/x-python",
   "name": "python",
   "nbconvert_exporter": "python",
   "pygments_lexer": "ipython3",
   "version": "3.6.7"
  }
 },
 "nbformat": 4,
 "nbformat_minor": 2
}
