{
 "cells": [
  {
   "cell_type": "code",
   "execution_count": null,
   "metadata": {
    "scrolled": false
   },
   "outputs": [],
   "source": [
    "import dask\n",
    "from dask.distributed import Client\n",
    "client = Client('dask-datacube-dask.odchub:8786')"
   ]
  },
  {
   "cell_type": "code",
   "execution_count": null,
   "metadata": {},
   "outputs": [],
   "source": [
    "%%time\n",
    "%matplotlib inline\n",
    "\n",
    "import datacube # Load the datacube library\n",
    "import datetime\n",
    "import numpy as np\n",
    "import json\n",
    "import matplotlib.pyplot as plt\n",
    "\n",
    "dc = datacube.Datacube(app='dc-visualize')\n",
    "\n",
    "# Mid Australia\n",
    "lon = 137\n",
    "lat = -25\n",
    "buffer = 5\n",
    "\n",
    "lon_min = lon - buffer\n",
    "lon_max = lon + buffer\n",
    "\n",
    "lat_min = lat - buffer\n",
    "lat_max = lat + buffer\n",
    "\n",
    "# Tasmania\n",
    "# lon_min = 144.50\n",
    "# lon_max = 148.50\n",
    "\n",
    "# lat_min = -43.70\n",
    "# lat_max = -40.56\n",
    "\n",
    "# Australia\n",
    "# lon_min = 113\n",
    "# lon_max = 153\n",
    "\n",
    "# lat_min = -44\n",
    "# lat_max = -11\n",
    "\n",
    "date_range = (\n",
    "    datetime.datetime(2017, 1, 1),\n",
    "    datetime.datetime(2017, 1, 1)\n",
    ")\n",
    "\n",
    "ds = dc.load(\n",
    "    product='ls8_nbart_geomedian_annual',\n",
    "    x=(lon_min, lon_max),\n",
    "    y=(lat_min, lat_max),\n",
    "    output_crs='epsg:3577',\n",
    "    resolution=(-30, 30),\n",
    "    time = date_range,\n",
    "    measurements=['red', 'green', 'blue'],\n",
    "    dask_chunks = {'x': 4000, 'y': 4000, 'time': 1}\n",
    ")\n",
    "ds"
   ]
  },
  {
   "cell_type": "code",
   "execution_count": null,
   "metadata": {},
   "outputs": [],
   "source": [
    "average = ds.where(ds>0).mean()"
   ]
  },
  {
   "cell_type": "code",
   "execution_count": null,
   "metadata": {},
   "outputs": [],
   "source": [
    "#%%time\n",
    "scaled = average / 3000\n",
    "\n",
    "red = int(np.clip(scaled.red, 0, 1) * 255)\n",
    "green = int(np.clip(scaled.green, 0, 1) * 255)\n",
    "blue = int(np.clip(scaled.blue, 0, 1) * 255)\n",
    "\n",
    "hex_colour = '#{:02x}{:02x}{:02x}'.format(\n",
    "    int(red),\n",
    "    int(green),\n",
    "    int(blue)\n",
    ")\n",
    "print(\"Red: {}, Green: {}, Blue: {}\".format(red, green, blue))"
   ]
  },
  {
   "cell_type": "code",
   "execution_count": null,
   "metadata": {},
   "outputs": [],
   "source": [
    "from matplotlib import pyplot as plt\n",
    "from matplotlib.patches import Rectangle\n",
    "someX, someY = 0.5, 0.5\n",
    "fig,ax = plt.subplots()\n",
    "currentAxis = plt.gca()\n",
    "currentAxis.add_patch(\n",
    "    Rectangle((someX - 0.5, someY - 0.5), 1.0, 1.0, alpha=1, facecolor=hex_colour))"
   ]
  },
  {
   "cell_type": "code",
   "execution_count": null,
   "metadata": {},
   "outputs": [],
   "source": [
    "print(\"{:2.1f} billion pixels\".format((ds.to_array().shape[2] * ds.to_array().shape[3])/1000000000))"
   ]
  }
 ],
 "metadata": {
  "kernelspec": {
   "display_name": "Python 3",
   "language": "python",
   "name": "python3"
  },
  "language_info": {
   "codemirror_mode": {
    "name": "ipython",
    "version": 3
   },
   "file_extension": ".py",
   "mimetype": "text/x-python",
   "name": "python",
   "nbconvert_exporter": "python",
   "pygments_lexer": "ipython3",
   "version": "3.6.7"
  }
 },
 "nbformat": 4,
 "nbformat_minor": 2
}
