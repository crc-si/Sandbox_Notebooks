{
 "cells": [
  {
   "cell_type": "markdown",
   "metadata": {},
   "source": [
    "\n",
    "## Why ODC for DEA?\n",
    "\n",
    "-  Shift in paradigm from scene based analysis to pixel based.\n",
    "-  A simple, standard, and extensible way to interact with and perform analysis on data.\n",
    "-  Allow users to define exactly in what state data is to be delivered in terms of projection, resolution, bands and datasets.\n",
    "-  Easily create subsets or derivative products that are managed and tracked by the ODC.\n",
    "-  Provide a base set of functions and tools that make analysis more simple!\n",
    "\n",
    "\n",
    "### Let's get right into it by loading a cube.\n",
    "\n"
   ]
  },
  {
   "cell_type": "code",
   "execution_count": null,
   "metadata": {},
   "outputs": [],
   "source": [
    "%%time\n",
    "%matplotlib notebook\n",
    "import datacube\n",
    "\n",
    "dc = datacube.Datacube(app='load-data-example')\n",
    "\n",
    "# Let's request a datacube!!\n",
    "# By default, the x and y arguments accept queries in a geographical co-ordinate system WGS84, \n",
    "# identified by the EPSG code 4326.\n",
    "\n",
    "data_cube = dc.load(\n",
    "    product='s2a_nrt_granule',\n",
    "    x=(146.30, 146.40), y=(-43.30,-43.20),\n",
    "    #time=('2018-09-01', '2018-10-01'),\n",
    "    resolution = (-10,10),\n",
    "    output_crs='epsg:3577',\n",
    "    measurements=('nbar_red','nbar_green','nbar_blue','nbar_nir_1','fmask')\n",
    ")\n"
   ]
  },
  {
   "cell_type": "code",
   "execution_count": null,
   "metadata": {},
   "outputs": [],
   "source": [
    "print(data_cube)"
   ]
  },
  {
   "cell_type": "markdown",
   "metadata": {},
   "source": [
    "## Let's explore what a data cube is.\n",
    "\n",
    "In the context of earth observation a data cube is a multi-dimensional array that will consistantly contain the dimensions of time and a spatial grid. Along these dimensions any number of measurements can be associated to these grids and will represent the measurement taken at a specific time and space. \n",
    "\n",
    "<img src=\"images/Data_Cube.png\">\n",
    "\n",
    "The ODC uses the XArray library http://xarray.pydata.org/en/stable/, the key to building effective ODC algorithms is to master the use of the xarray. Please click on the documention to find out more otherwise a number of examples are provided below.\n",
    "\n",
    "They're also python libraries such as Dask http://dask.pydata.org/en/latest/ that can scale up computation of XArray to supercomputing, and cloud solutions. They're many other project utilising XArray and it becoming a standard for multi-dimenional data analysis.\n"
   ]
  },
  {
   "cell_type": "code",
   "execution_count": null,
   "metadata": {},
   "outputs": [],
   "source": [
    "%matplotlib notebook\n",
    "# Pixel Drill by index through time\n",
    "pixel_drill_index = data_cube.isel(x=[500], y=[1000])\n",
    "print(pixel_drill_index)\n",
    "print('----------------------------------------------')\n",
    "\n",
    "# Pixel Drill by coordinates through time.\n",
    "pixel_drill_coordinates = data_cube.sel(x=[-4788000], y=[1197000], method='nearest')\n",
    "print(pixel_drill_coordinates)\n",
    "print('----------------------------------------------')\n",
    "\n",
    "# Pixel Drill by coordinates through time.\n",
    "pixel_slice_index = data_cube.isel(x=slice(200,300), y=slice(200,300), time=2)\n",
    "print(pixel_slice_index)\n"
   ]
  },
  {
   "cell_type": "markdown",
   "metadata": {},
   "source": [
    "## Querying a data cube.\n",
    "\n",
    "Our datacube can now be sliced, trimmed or querried with masks, you can basically sculpt any object out of the cube pixels.\n",
    "\n",
    "<img src=\"images/pixel_drill.png\">\n",
    "<img src=\"images/line_drill.png\">\n"
   ]
  },
  {
   "cell_type": "code",
   "execution_count": null,
   "metadata": {},
   "outputs": [],
   "source": [
    "pixel_drill_index.nbar_nir_1.plot()\n",
    "#pixel_drill_index.nbar_red.plot()\n",
    "#pixel_drill_index.nbar_green.plot()\n",
    "#pixel_drill_index.nbar_blue.plot()"
   ]
  },
  {
   "cell_type": "code",
   "execution_count": null,
   "metadata": {},
   "outputs": [],
   "source": [
    "%matplotlib notebook\n",
    "# Operations on cubes.\n",
    "monthly_means = pixel_drill_coordinates.groupby('time.month').mean()\n",
    "print(monthly_means)\n",
    "print('---------------------------------')\n",
    "\n",
    "y_cross_sections = pixel_slice_index.groupby('x').mean()\n",
    "print(y_cross_sections)\n",
    "y_cross_sections.nbar_nir_1.plot()"
   ]
  },
  {
   "cell_type": "markdown",
   "metadata": {},
   "source": [
    "## Masking using DEA provided meta-data.\n",
    "\n",
    "Next we'll explore sentinel 2 fmask, each pixel in the QA bands of products contain integers or bit packed combinations that represent surface, atmospheric, and sensor conditions that can affect the overall usefulness of a given pixel.\n",
    "\n",
    "Used effectively, these masks improve the integrity of science investigations by indicating which pixels might be affected by instrument artifacts or subject to cloud contamination. The ODC has in built methods that transform the metadata of a specific product to a libary of masking templates. For example, you are able to build a cloud mask directly from the ODC library."
   ]
  },
  {
   "cell_type": "code",
   "execution_count": null,
   "metadata": {},
   "outputs": [],
   "source": [
    "from datacube.storage import masking  # Import masking capabilities\n",
    "print(masking.describe_variable_flags(data_cube)) #Describe the masks available\n"
   ]
  },
  {
   "cell_type": "code",
   "execution_count": null,
   "metadata": {},
   "outputs": [],
   "source": [
    "clean_pixel_mask = masking.make_mask(\n",
    "    data_cube.fmask,\n",
    "    fmask = 'valid')\n",
    "\n",
    "print(clean_pixel_mask)\n",
    "\n",
    "masked_cloud = data_cube.where(clean_pixel_mask)\n",
    "print (masked_cloud)\n"
   ]
  },
  {
   "cell_type": "code",
   "execution_count": null,
   "metadata": {
    "scrolled": false
   },
   "outputs": [],
   "source": [
    "%matplotlib notebook\n",
    "from utils.utils import three_band_image\n",
    "import matplotlib.pyplot as plt\n",
    "\n",
    "#img_toshowNoMask = three_band_image(masked_cloud,bands = ['nbar_red', 'nbar_green', 'nbar_blue'], time = 1)\n",
    "\n",
    "time = 9\n",
    "img_toshowNoMask = three_band_image(masked_cloud,bands = ['nbar_red', 'nbar_green', 'nbar_blue'], tim =time)\n",
    "img_toshow = three_band_image(data_cube,bands = ['nbar_red', 'nbar_green', 'nbar_blue'], time=time)\n",
    "#fig, (ax1, ax2) = plt.subplots(2, 1)\n",
    "fig = plt.figure(1, [10,20])\n",
    "\n",
    "plt.subplot(211)\n",
    "ax = plt.gca()\n",
    "ax.set_title(\"All Pixels\", fontweight='bold', fontsize=16)\n",
    "ax.set_xticklabels(data_cube.x.values)\n",
    "ax.set_yticklabels(data_cube.y.values)\n",
    "ax.set_xlabel('Easting', fontweight='bold')\n",
    "ax.set_ylabel('Northing', fontweight='bold')\n",
    "\n",
    "plt.imshow(img_toshow)\n",
    "\n",
    "plt.subplot(212)\n",
    "ax = plt.gca()\n",
    "ax.set_title(\"Artifacts Filtered Out\", fontweight='bold', fontsize=16)\n",
    "ax.set_xticklabels(data_cube.x.values)\n",
    "ax.set_yticklabels(data_cube.y.values)\n",
    "ax.set_xlabel('Easting', fontweight='bold')\n",
    "ax.set_ylabel('Northing', fontweight='bold')\n",
    "plt.imshow(img_toshowNoMask)\n"
   ]
  },
  {
   "cell_type": "markdown",
   "metadata": {},
   "source": [
    "## Merging two datacube into one.\n",
    "\n",
    "In this example we'll load a datacube over the same time period and extent for sentinal 2a sister satellite 2b, we'll then merge them into a single cube.\n"
   ]
  },
  {
   "cell_type": "code",
   "execution_count": null,
   "metadata": {},
   "outputs": [],
   "source": [
    "import xarray\n",
    "\n",
    "data_cube_sister = dc.load(\n",
    "    product='s2b_nrt_granule', \n",
    "    x=(146.30, 146.40), y=(-43.30,-43.20),\n",
    "    #time=('2018-09-01', '2018-10-01'),\n",
    "    resolution = (-10,10),\n",
    "    output_crs='epsg:3577',\n",
    "    measurements=('nbar_red','nbar_green','nbar_blue','nbar_nir_1','fmask')\n",
    ")\n",
    "\n",
    "crs = data_cube_sister.crs\n",
    "affine = data_cube_sister.affine\n",
    "\n",
    "combined_cube = xarray.merge([data_cube,data_cube_sister])\n",
    "combined_cube.attrs['crs'] = crs\n",
    "combined_cube.attrs['affine'] = affine\n"
   ]
  },
  {
   "cell_type": "code",
   "execution_count": null,
   "metadata": {},
   "outputs": [],
   "source": [
    "combined_cube"
   ]
  }
 ],
 "metadata": {
  "kernelspec": {
   "display_name": "Python 3",
   "language": "python",
   "name": "python3"
  },
  "language_info": {
   "codemirror_mode": {
    "name": "ipython",
    "version": 3
   },
   "file_extension": ".py",
   "mimetype": "text/x-python",
   "name": "python",
   "nbconvert_exporter": "python",
   "pygments_lexer": "ipython3",
   "version": "3.6.7"
  }
 },
 "nbformat": 4,
 "nbformat_minor": 2
}
