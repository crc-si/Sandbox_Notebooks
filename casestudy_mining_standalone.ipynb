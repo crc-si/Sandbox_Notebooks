{
 "cells": [
  {
   "cell_type": "markdown",
   "metadata": {},
   "source": [
    "# Tracking rehabilitation of mines\n",
    "\n",
    "### Background\n",
    "\n",
    "The Department of Mines, Industry Regulation and Safety's (DMIRS) Mining Rehabilitation Fund (MRF) is a pooled fund that Western Australian mining operators contribute to. \n",
    "The Mining Rehabilitation Fund Act 2012, which provides the framework for the fund, was enacted in 2012.\n",
    "The MRF data is published on DMIRS's website annually.\n",
    "Released data shows ground disturbance as reported by the tenement holder and can be found in the 'MRF documents' section of [this web page](http://www.dmp.wa.gov.au/Environmental-Assessment-and-1471.aspx).\n",
    "\n",
    "For the first time, this data establishes how much land is actually disturbed in each year by exploration and mining activities on Mining Act tenure.\n",
    "The data builds on the information collected and monitored by DMIRS when it approves and monitors a project.\n",
    "It can be used to provide a liability estimate for each mining company based on the level and type of disturbance along with the amount of rehabilitation that has been conducted on a tenement.\n",
    "\n",
    "### The Problem\n",
    "\n",
    "At the moment, most mining organisations only review disturbance annually, and often contract out the service to third party surveying and ecological consulting agencies.\n",
    "While these providers generally provide excellent information, there are two main issues:\n",
    "\n",
    "-  With annual visits to site it is near impossible to see new disturbance events (land slips, tunnel collapses causing on surface disturbance, etc) before the next year’s survey.\n",
    "-  There is no way to validate or sanity check consultants reports without a site visit.\n",
    "\n",
    "### Digital Earth Australia Use Case\n",
    "Satellite Imagery can be used to address the above two problems.\n",
    "Land disturbance can be monitored by tracking the amount of bare ground on the site compared with surrounding areas.\n",
    "A slow increase or sharp spike in the amount of bare ground over a mining site would indicate increased disturbance, which is against the trend expected during rehabilitation efforts.\n",
    "This tracking can be achieved using the Fractional Cover data product from the Joint Remote Sensing Research Program, which is provided through DEA.\n",
    "This would allow companies to identify any disturbance events early in the year and take corrective action before the yearly reporting.\n",
    "This would minimise the liability due to the MRF.\n",
    "This same data product can be used to validate the field reporting from surveying and ecological consultants before submitting reports.\n",
    "While reports from field surveys will provide more detail than most Earth Observation data products, such products provide the ability to provide context and validation of reports.\n",
    "For example, if the survey detects a disturbance, it may be hard to detect a reason.\n",
    "DEA data and derived products can be used to identify the point in time, and possibly the cause of each disturbance event.\n",
    "\n",
    "The worked example below takes users through the code required to:\n",
    "-  Create a time series data cube over a mine site.\n",
    "-  Select relevant data products for analysis.\n",
    "-  Create graphs to identify rehabilitation trends and disturbance events.\n",
    "-  Interpret the results.\n",
    "\n",
    "### Technical details\n",
    "\n",
    "**Products used:** <br>\n",
    "**Fractional Cover** <br>\n",
    "Fractional Cover provides land cover fractions representing the proportions of green, non-green and bare cover retrieved by inverting multiple linear regression estimates and using synthetic endmembers in a constrained non-negative least squares unmixing model. \n",
    "The algorithm for generating Fractional Cover was developed by the [Joint Remote Sensing Research Program](https://www.jrsrp.org.au/).\n",
    "\n",
    "**Water Observations from Space Feature Layers** <br>\n",
    "The Water Observation from Space (WOfS) product provides insight into the behaviour of surface water across Australia through time, demonstrating where water is persistent, such as in reservoirs, and where it is ephemeral, such as on floodplains during a flood.\n",
    "The Feature Layers product is used to mask clouds from the Fractional Cover product.\n",
    "\n",
    "**Satellite data: Landsat 8** <br>\n",
    "\n",
    "**App functions:** [casestudy_mining_functions](/user/user/edit/examples/utils/casestudy_mining_functions.py)\n",
    "* `load_mining_data()`: Loads and cleans data from Landsat 8.\n",
    "* `run_mining_app()`: Launches an interactive map and plots Fractional Cover values for selected areas."
   ]
  },
  {
   "cell_type": "markdown",
   "metadata": {},
   "source": [
    "# Run this notebook\n",
    "\n",
    "### Load the app functions\n",
    "The relevant Open Data Cube commands are exectuted by the two app functions `load_mining_data()` and `run_mining_app()`. To run the notebook, these need to be imported from `utils.casestudy_mining_functions` where they're described.\n",
    "\n",
    "The `%matplotlib inline` command allows the notebook to contain interactive plots.\n",
    "\n",
    "**To run the following cell, click inside and either press the** `Run` **button on the tool-bar or press** `Shift+Enter` **on the keyboard.**"
   ]
  },
  {
   "cell_type": "code",
   "execution_count": null,
   "metadata": {},
   "outputs": [],
   "source": [
    "%matplotlib inline\n",
    "\n",
    "from utils.casestudy_mining_functions import load_mining_data, run_mining_app"
   ]
  },
  {
   "cell_type": "markdown",
   "metadata": {},
   "source": [
    "### Load the data\n",
    "The `load_mining_data()` command performs several key steps:\n",
    "* load Fractional Cover and WOfS for the study area\n",
    "* match the data sets to keep data with the same time stamps\n",
    "* use WOfS to mask Fractional Cover\n",
    "* resample the masked Fractional Cover to get monthly average values\n",
    "* return the masked data for analysis\n",
    "\n",
    "The masked data is stored in the `dataset_fc` object.\n",
    "As the command runs, feedback will provided below the cell.\n",
    "\n",
    "**To run the following cell, click inside and either press the** `Run` **button on the tool-bar or press** `Shift+Enter` **on the keyboard.**"
   ]
  },
  {
   "cell_type": "code",
   "execution_count": null,
   "metadata": {},
   "outputs": [],
   "source": [
    "dataset_fc = load_mining_data()"
   ]
  },
  {
   "cell_type": "markdown",
   "metadata": {},
   "source": [
    "### Run the mining app\n",
    "The `run_mining_app()` command launches an interactive map.\n",
    "Drawing polygons within the boundary (which represents the area covered by the loaded data) will result in plots of the average bare, green and non-green cover in that area.\n",
    "\n",
    "The command works by taking the loaded data `dataset_fc` as an argument. \n",
    "\n",
    "**To run the following cell, click inside and either press the** `Run` **button on the tool-bar or press** `Shift+Enter` **on the keyboard.**\n",
    "\n",
    "*Note*: When drawing polygons, draw one over the mine and one over the forest nearby, then the fractional cover values can be compared on the produced plot."
   ]
  },
  {
   "cell_type": "code",
   "execution_count": null,
   "metadata": {},
   "outputs": [],
   "source": [
    "run_mining_app(dataset_fc)"
   ]
  },
  {
   "cell_type": "markdown",
   "metadata": {},
   "source": [
    "### Insights\n",
    "Rehabilitation can be indicated by either a decrease in bare cover, or increases in either green or non-green cover.\n",
    "Consider which of these is occuring here.\n",
    "Use the results from a polygon over the forested area to understand broader trends in vegetation growth in the area."
   ]
  }
 ],
 "metadata": {
  "kernelspec": {
   "display_name": "Python 3",
   "language": "python",
   "name": "python3"
  },
  "language_info": {
   "codemirror_mode": {
    "name": "ipython",
    "version": 3
   },
   "file_extension": ".py",
   "mimetype": "text/x-python",
   "name": "python",
   "nbconvert_exporter": "python",
   "pygments_lexer": "ipython3",
   "version": "3.6.8"
  }
 },
 "nbformat": 4,
 "nbformat_minor": 4
}
