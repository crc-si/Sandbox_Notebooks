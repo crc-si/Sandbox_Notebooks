{
 "cells": [
  {
   "cell_type": "code",
   "execution_count": null,
   "metadata": {},
   "outputs": [],
   "source": [
    "%matplotlib inline\n",
    "\n",
    "from utils.casestudy_mining_functions import load_mining_data, run_mining_app"
   ]
  },
  {
   "cell_type": "code",
   "execution_count": null,
   "metadata": {},
   "outputs": [],
   "source": [
    "new_ds_combined_resampled = load_mining_data()"
   ]
  },
  {
   "cell_type": "code",
   "execution_count": null,
   "metadata": {},
   "outputs": [],
   "source": [
    "print(new_ds_combined_resampled)"
   ]
  },
  {
   "cell_type": "code",
   "execution_count": null,
   "metadata": {},
   "outputs": [],
   "source": [
    "run_mining_app(new_ds_combined_resampled)"
   ]
  },
  {
   "cell_type": "code",
   "execution_count": null,
   "metadata": {},
   "outputs": [],
   "source": [
    "dc = datacube.Datacube(app='mining-app')"
   ]
  },
  {
   "cell_type": "code",
   "execution_count": null,
   "metadata": {},
   "outputs": [],
   "source": [
    "latitude = (-34.426512, -34.434517)\n",
    "longitude = (116.648123, 116.630731)\n",
    "time = (\"2015-01-01\", \"2018-12-31\")"
   ]
  },
  {
   "cell_type": "code",
   "execution_count": null,
   "metadata": {},
   "outputs": [],
   "source": [
    "dataset_fc = dc.load(\n",
    "    product=\"ls8_fc_albers\", latitude=latitude, longitude=longitude, time=time\n",
    ")\n",
    "\n",
    "dataset_wofs = dc.load(\n",
    "    product=\"wofs_albers\", like=dataset_fc\n",
    ")"
   ]
  },
  {
   "cell_type": "code",
   "execution_count": null,
   "metadata": {},
   "outputs": [],
   "source": [
    "shared_times = np.intersect1d(dataset_fc.time, dataset_wofs.time)\n",
    "\n",
    "ds_fc_matched = dataset_fc.sel(time=shared_times)\n",
    "ds_wofs_matched = dataset_wofs.sel(time=shared_times)"
   ]
  },
  {
   "cell_type": "code",
   "execution_count": null,
   "metadata": {},
   "outputs": [],
   "source": [
    "dry_mask = masking.make_mask(ds_wofs_matched, dry=True)"
   ]
  },
  {
   "cell_type": "code",
   "execution_count": null,
   "metadata": {},
   "outputs": [],
   "source": [
    "ds_fc_masked = ds_fc_matched.where(dry_mask.water == True)\n",
    "ds_wofs_masked = masking.make_mask(ds_wofs_matched, wet=True)"
   ]
  },
  {
   "cell_type": "code",
   "execution_count": null,
   "metadata": {},
   "outputs": [],
   "source": [
    "# scene=3\n",
    "\n",
    "# plt.figure(figsize=(16,16))\n",
    "# gs = gridspec.GridSpec(3,2) # set up a 2 x 2 grid of 4 images for better presentation\n",
    "\n",
    "# ax1=plt.subplot(gs[0,0])\n",
    "# ds_fc_masked.PV.isel(time=scene).plot(cmap='gist_earth_r')\n",
    "# ax1.set_title('PV')\n",
    "\n",
    "# ax2=plt.subplot(gs[1,0])\n",
    "# ds_fc_masked.BS.isel(time=scene).plot(cmap='Oranges')\n",
    "# ax2.set_title('BS')\n",
    "\n",
    "# ax3=plt.subplot(gs[0,1])\n",
    "# ds_fc_masked.NPV.isel(time=scene).plot(cmap='copper')\n",
    "# ax3.set_title('NPV')\n",
    "\n",
    "# ax4=plt.subplot(gs[1,1])\n",
    "# ds_fc_masked.UE.isel(time=scene).plot(cmap='magma')\n",
    "# ax4.set_title('UE')\n",
    "\n",
    "# ax5=plt.subplot(gs[2,0])\n",
    "# ds_wofs_masked.water.isel(time=scene).plot(cmap='RdBu')\n",
    "# ax5.set_title('Water')\n",
    "\n",
    "# plt.tight_layout()\n",
    "# plt.show()"
   ]
  },
  {
   "cell_type": "code",
   "execution_count": null,
   "metadata": {},
   "outputs": [],
   "source": [
    "ds_fc_masked"
   ]
  },
  {
   "cell_type": "code",
   "execution_count": null,
   "metadata": {},
   "outputs": [],
   "source": [
    "ds_wofs_masked['water_fraction'] = ds_wofs_masked.water.astype(float)\n",
    "print(ds_wofs_masked)"
   ]
  },
  {
   "cell_type": "code",
   "execution_count": null,
   "metadata": {},
   "outputs": [],
   "source": [
    "ds_combined = xr.merge([ds_fc_masked/100, ds_wofs_masked.water_fraction])\n",
    "\n",
    "#Replace 0.0 with nan for water_fraction\n",
    "#ds_combined['water_fraction'] = ds_combined.water_fraction.where(ds_combined['water_fraction'] != 0.0)"
   ]
  },
  {
   "cell_type": "code",
   "execution_count": null,
   "metadata": {},
   "outputs": [],
   "source": [
    "print(ds_combined)"
   ]
  },
  {
   "cell_type": "code",
   "execution_count": null,
   "metadata": {},
   "outputs": [],
   "source": [
    "ds_combined_resampled = ds_combined.resample(time=\"1M\").median()"
   ]
  },
  {
   "cell_type": "code",
   "execution_count": null,
   "metadata": {},
   "outputs": [],
   "source": [
    "print(ds_combined_resampled)"
   ]
  },
  {
   "cell_type": "code",
   "execution_count": null,
   "metadata": {},
   "outputs": [],
   "source": [
    "# scene=0\n",
    "\n",
    "# plt.figure(figsize=(16,16))\n",
    "# gs = gridspec.GridSpec(3,2) # set up a 2 x 2 grid of 4 images for better presentation\n",
    "\n",
    "# ax1=plt.subplot(gs[0,0])\n",
    "# ds_combined_resampled.PV.isel(time=scene).plot(cmap='gist_earth_r')\n",
    "# ax1.set_title('PV')\n",
    "\n",
    "# ax2=plt.subplot(gs[1,0])\n",
    "# ds_combined_resampled.BS.isel(time=scene).plot(cmap='Oranges')\n",
    "# ax2.set_title('BS')\n",
    "\n",
    "# ax3=plt.subplot(gs[0,1])\n",
    "# ds_combined_resampled.NPV.isel(time=scene).plot(cmap='copper')\n",
    "# ax3.set_title('NPV')\n",
    "\n",
    "# ax4=plt.subplot(gs[1,1])\n",
    "# ds_combined_resampled.UE.isel(time=scene).plot(cmap='magma')\n",
    "# ax4.set_title('UE')\n",
    "\n",
    "# ax5=plt.subplot(gs[2,0])\n",
    "# ds_combined_resampled.water_fraction.isel(time=scene).plot(cmap='RdBu')\n",
    "# ax5.set_title('Water')\n",
    "\n",
    "# plt.tight_layout()\n",
    "# plt.show()"
   ]
  },
  {
   "cell_type": "code",
   "execution_count": null,
   "metadata": {},
   "outputs": [],
   "source": [
    "ds_combined_resampled_average = ds_combined_resampled.mean(dim=[\"x\", \"y\"])\n",
    "\n",
    "# plt.figure(figsize=(16, 8))\n",
    "# gs = gridspec.GridSpec(4, 1)  # set up a 2 x 2 grid of 4 images for better presentation\n",
    "\n",
    "# ax1 = plt.subplot(gs[0, 0])\n",
    "# ds_combined_resampled_average.PV.interpolate_na(dim=\"time\", method=\"nearest\").plot.line('*-')\n",
    "# ds_combined_resampled_average.NPV.interpolate_na(dim=\"time\", method=\"nearest\").plot.line('*-')\n",
    "# ds_combined_resampled_average.BS.interpolate_na(dim=\"time\", method=\"nearest\").plot.line('*-')\n",
    "# ax1.set_title(\"PV\")\n",
    "\n",
    "# ax2=plt.subplot(gs[0,1])\n",
    "# ds_combined_resampled.BS.isel(time=scene).plot(cmap='Oranges')\n",
    "# ax2.set_title('BS')\n",
    "\n",
    "# ax3=plt.subplot(gs[0,2])\n",
    "# ds_combined_resampled.NPV.isel(time=scene).plot(cmap='copper')\n",
    "# ax3.set_title('NPV')\n",
    "\n",
    "# ax4=plt.subplot(gs[0,4])\n",
    "# ds_combined_resampled.water_fraction.isel(time=scene).plot(cmap='RdBu')\n",
    "# ax4.set_title('Water')\n",
    "\n",
    "# plt.tight_layout()\n",
    "# plt.show()"
   ]
  },
  {
   "cell_type": "code",
   "execution_count": null,
   "metadata": {},
   "outputs": [],
   "source": []
  },
  {
   "cell_type": "code",
   "execution_count": null,
   "metadata": {},
   "outputs": [],
   "source": []
  },
  {
   "cell_type": "code",
   "execution_count": null,
   "metadata": {},
   "outputs": [],
   "source": []
  }
 ],
 "metadata": {
  "kernelspec": {
   "display_name": "Python 3",
   "language": "python",
   "name": "python3"
  },
  "language_info": {
   "codemirror_mode": {
    "name": "ipython",
    "version": 3
   },
   "file_extension": ".py",
   "mimetype": "text/x-python",
   "name": "python",
   "nbconvert_exporter": "python",
   "pygments_lexer": "ipython3",
   "version": "3.6.8"
  }
 },
 "nbformat": 4,
 "nbformat_minor": 4
}
