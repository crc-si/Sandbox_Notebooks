{
 "cells": [
  {
   "cell_type": "code",
   "execution_count": null,
   "metadata": {},
   "outputs": [],
   "source": [
    "# Load modules\n",
    "from ipyleaflet import (\n",
    "    Map,\n",
    "    GeoJSON,\n",
    "    DrawControl,\n",
    "    basemaps\n",
    ")\n",
    "import datetime as dt\n",
    "import datacube\n",
    "import ogr\n",
    "import matplotlib as mpl\n",
    "import matplotlib.pyplot as plt\n",
    "import rasterio\n",
    "import xarray as xr\n",
    "from IPython.display import display\n",
    "import warnings\n",
    "import ipywidgets as widgets\n",
    "\n",
    "# Load utility functions\n",
    "from utils.DEADataHandling import load_clearsentinel2\n",
    "from utils.utils import transform_from_wgs_poly\n",
    "from utils.BandIndices import calculate_indices"
   ]
  },
  {
   "cell_type": "code",
   "execution_count": null,
   "metadata": {},
   "outputs": [],
   "source": [
    "dc = datacube.Datacube(app='agriculture-app')"
   ]
  },
  {
   "cell_type": "code",
   "execution_count": null,
   "metadata": {},
   "outputs": [],
   "source": [
    "latitude = (-34.426512, -34.434517)\n",
    "longitude = (116.648123, 116.630731)\n",
    "time = (\"2015-01-01\", \"2018-12-31\")"
   ]
  },
  {
   "cell_type": "code",
   "execution_count": null,
   "metadata": {},
   "outputs": [],
   "source": [
    "dataset_fc = dc.load(\n",
    "    product=\"ls8_fc_albers\", latitude=latitude, longitude=longitude, time=time\n",
    ")\n",
    "\n",
    "dataset_wofs = dc.load(\n",
    "    product=\"wofs_albers\", latitude=latitude, longitude=longitude, time=time\n",
    ")"
   ]
  },
  {
   "cell_type": "code",
   "execution_count": null,
   "metadata": {},
   "outputs": [],
   "source": [
    "shared_times = np.intersect1d(dataset_fc.time, dataset_wofs.time)\n",
    "\n",
    "ds_fc_matched = dataset_fc.sel(time=shared_times)\n",
    "ds_wofs_matched = dataset_wofs.sel(time=shared_times)"
   ]
  },
  {
   "cell_type": "code",
   "execution_count": null,
   "metadata": {},
   "outputs": [],
   "source": [
    "dry_mask = masking.make_mask(ds_wofs_matched, dry=True)"
   ]
  },
  {
   "cell_type": "code",
   "execution_count": null,
   "metadata": {},
   "outputs": [],
   "source": [
    "ds_fc_masked = ds_fc_matched.where(dry_mask.water == True)\n",
    "ds_wofs_masked = masking.make_mask(ds_wofs_matched, wet=True)"
   ]
  },
  {
   "cell_type": "code",
   "execution_count": null,
   "metadata": {},
   "outputs": [],
   "source": [
    "scene=3\n",
    "\n",
    "plt.figure(figsize=(16,16))\n",
    "gs = gridspec.GridSpec(3,2) # set up a 2 x 2 grid of 4 images for better presentation\n",
    "\n",
    "ax1=plt.subplot(gs[0,0])\n",
    "ds_fc_masked.PV.isel(time=scene).plot(cmap='gist_earth_r')\n",
    "ax1.set_title('PV')\n",
    "\n",
    "ax2=plt.subplot(gs[1,0])\n",
    "ds_fc_masked.BS.isel(time=scene).plot(cmap='Oranges')\n",
    "ax2.set_title('BS')\n",
    "\n",
    "ax3=plt.subplot(gs[0,1])\n",
    "ds_fc_masked.NPV.isel(time=scene).plot(cmap='copper')\n",
    "ax3.set_title('NPV')\n",
    "\n",
    "ax4=plt.subplot(gs[1,1])\n",
    "ds_fc_masked.UE.isel(time=scene).plot(cmap='magma')\n",
    "ax4.set_title('UE')\n",
    "\n",
    "ax5=plt.subplot(gs[2,0])\n",
    "ds_wofs_masked.water.isel(time=scene).plot(cmap='RdBu')\n",
    "ax5.set_title('Water')\n",
    "\n",
    "plt.tight_layout()\n",
    "plt.show()"
   ]
  },
  {
   "cell_type": "code",
   "execution_count": null,
   "metadata": {},
   "outputs": [],
   "source": [
    "# Suppress warnings\n",
    "warnings.filterwarnings('ignore')\n",
    "\n",
    "# Update plotting functionality through rcParams\n",
    "mpl.rcParams.update({'figure.autolayout': True})\n",
    "\n",
    "# Define the bounding box that will be overlayed on the interactive map\n",
    "# The bounds are hard-coded to match those from the loaded data\n",
    "geom_obj = {\n",
    "    \"type\": \"Feature\",\n",
    "    \"properties\": {\n",
    "        \"style\": {\n",
    "            \"stroke\": True,\n",
    "            \"color\": 'red',\n",
    "            \"weight\": 4,\n",
    "            \"opacity\": 0.8,\n",
    "            \"fill\": True,\n",
    "            \"fillColor\": False,\n",
    "            \"fillOpacity\": 0,\n",
    "            \"showArea\": True,\n",
    "            \"clickable\": True\n",
    "        }\n",
    "    },\n",
    "    \"geometry\": {\n",
    "        \"type\": \"Polygon\",\n",
    "        \"coordinates\": [\n",
    "            [\n",
    "                [116.630731, -34.434517],\n",
    "                [116.630731, -34.426512],\n",
    "                [116.648123, -34.426512],\n",
    "                [116.648123, -34.434517],\n",
    "                [116.630731, -34.434517]\n",
    "            ]\n",
    "        ]\n",
    "    }\n",
    "}\n",
    "    \n",
    "# Create a map geometry from the geom_obj dictionary\n",
    "# center specifies where the background map view should focus on\n",
    "# zoom specifies how zoomed in the background map should be\n",
    "loadeddata_geometry = ogr.CreateGeometryFromJson(str(geom_obj['geometry']))\n",
    "loadeddata_center = [\n",
    "    loadeddata_geometry.Centroid().GetY(),\n",
    "    loadeddata_geometry.Centroid().GetX()\n",
    "]\n",
    "loadeddata_zoom = 15\n",
    "\n",
    "# define the study area map\n",
    "studyarea_map = Map(\n",
    "    center=loadeddata_center,\n",
    "    zoom=loadeddata_zoom,\n",
    "    basemap=basemaps.Esri.WorldImagery\n",
    ")\n",
    "\n",
    "# define the drawing controls\n",
    "studyarea_drawctrl = DrawControl(\n",
    "    polygon={\"shapeOptions\": {\"fillOpacity\": 0}}\n",
    ")\n",
    "\n",
    "# add drawing controls and data bound geometry to the map\n",
    "studyarea_map.add_control(studyarea_drawctrl)\n",
    "studyarea_map.add_layer(GeoJSON(data=geom_obj))\n",
    "\n",
    "# Index to count drawn polygons\n",
    "global polygon_number\n",
    "polygon_number = 0\n",
    "\n",
    "# Define widgets to interact with\n",
    "instruction = widgets.Output(layout={'border': '1px solid black'})\n",
    "with instruction:\n",
    "    print(\"Draw a polygon within the red box to view a plot of \"\n",
    "          \"average NDVI over time in that area.\")\n",
    "\n",
    "info = widgets.Output(layout={'border': '1px solid black'})\n",
    "with info:\n",
    "    print(\"Plot status:\")\n",
    "    \n",
    "# plot the map\n",
    "display(instruction)\n",
    "display(studyarea_map)\n",
    "display(info)\n"
   ]
  },
  {
   "cell_type": "code",
   "execution_count": null,
   "metadata": {},
   "outputs": [],
   "source": [
    "ds_fc_masked"
   ]
  },
  {
   "cell_type": "code",
   "execution_count": null,
   "metadata": {},
   "outputs": [],
   "source": [
    "ds_wofs_masked['water_fraction'] = ds_wofs_masked.water.astype(float)\n",
    "print(ds_wofs_masked)"
   ]
  },
  {
   "cell_type": "code",
   "execution_count": null,
   "metadata": {},
   "outputs": [],
   "source": [
    "ds_combined = xr.merge([ds_fc_masked/100, ds_wofs_masked.water_fraction])"
   ]
  },
  {
   "cell_type": "code",
   "execution_count": null,
   "metadata": {},
   "outputs": [],
   "source": [
    "print(ds_combined)"
   ]
  },
  {
   "cell_type": "code",
   "execution_count": null,
   "metadata": {},
   "outputs": [],
   "source": [
    "ds_combined_resampled = ds_combined.resample(time=\"2M\").mean(skipna=True)"
   ]
  },
  {
   "cell_type": "code",
   "execution_count": null,
   "metadata": {},
   "outputs": [],
   "source": [
    "print(ds_combined_resampled)"
   ]
  },
  {
   "cell_type": "code",
   "execution_count": null,
   "metadata": {},
   "outputs": [],
   "source": [
    "scene=24\n",
    "\n",
    "plt.figure(figsize=(16,16))\n",
    "gs = gridspec.GridSpec(3,2) # set up a 2 x 2 grid of 4 images for better presentation\n",
    "\n",
    "ax1=plt.subplot(gs[0,0])\n",
    "ds_combined_resampled.PV.isel(time=scene).plot(cmap='gist_earth_r')\n",
    "ax1.set_title('PV')\n",
    "\n",
    "ax2=plt.subplot(gs[1,0])\n",
    "ds_combined_resampled.BS.isel(time=scene).plot(cmap='Oranges')\n",
    "ax2.set_title('BS')\n",
    "\n",
    "ax3=plt.subplot(gs[0,1])\n",
    "ds_combined_resampled.NPV.isel(time=scene).plot(cmap='copper')\n",
    "ax3.set_title('NPV')\n",
    "\n",
    "ax4=plt.subplot(gs[1,1])\n",
    "ds_combined_resampled.UE.isel(time=scene).plot(cmap='magma')\n",
    "ax4.set_title('UE')\n",
    "\n",
    "ax5=plt.subplot(gs[2,0])\n",
    "ds_combined_resampled.water_fraction.isel(time=scene).plot(cmap='RdBu')\n",
    "ax5.set_title('Water')\n",
    "\n",
    "plt.tight_layout()\n",
    "plt.show()"
   ]
  },
  {
   "cell_type": "code",
   "execution_count": null,
   "metadata": {},
   "outputs": [],
   "source": []
  }
 ],
 "metadata": {
  "kernelspec": {
   "display_name": "Python 3",
   "language": "python",
   "name": "python3"
  },
  "language_info": {
   "codemirror_mode": {
    "name": "ipython",
    "version": 3
   },
   "file_extension": ".py",
   "mimetype": "text/x-python",
   "name": "python",
   "nbconvert_exporter": "python",
   "pygments_lexer": "ipython3",
   "version": "3.6.8"
  }
 },
 "nbformat": 4,
 "nbformat_minor": 4
}
