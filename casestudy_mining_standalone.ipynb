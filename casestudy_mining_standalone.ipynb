{
 "cells": [
  {
   "cell_type": "code",
   "execution_count": null,
   "metadata": {},
   "outputs": [],
   "source": [
    "import datacube\n",
    "from datacube.storage import masking\n",
    "import matplotlib.pyplot as plt\n",
    "import matplotlib.gridspec as gridspec\n",
    "import numpy as np"
   ]
  },
  {
   "cell_type": "code",
   "execution_count": null,
   "metadata": {},
   "outputs": [],
   "source": [
    "dc = datacube.Datacube(app='agriculture-app')\n",
    "dc.list_products()"
   ]
  },
  {
   "cell_type": "code",
   "execution_count": null,
   "metadata": {},
   "outputs": [],
   "source": [
    "latitude = (-34.426512, -34.434517)\n",
    "longitude = (116.648123, 116.630731)\n",
    "time = (\"2015-01-01\", \"2018-12-31\")"
   ]
  },
  {
   "cell_type": "code",
   "execution_count": null,
   "metadata": {},
   "outputs": [],
   "source": [
    "dataset_fc = dc.load(product='ls8_fc_albers', latitude=latitude, longitude=longitude, time=time)\n",
    "dataset_wofs = dc.load(product='wofs_albers', latitude=latitude, longitude=longitude, time=time, output_crs='epsg:3577', resolution = (-25,25))"
   ]
  },
  {
   "cell_type": "code",
   "execution_count": null,
   "metadata": {},
   "outputs": [],
   "source": [
    "shared_times = np.intersect1d(dataset_fc.time, dataset_wofs.time)\n",
    "\n",
    "ds_fc_matched = dataset_fc.sel(time=shared_times)\n",
    "ds_wofs_matched = dataset_wofs.sel(time=shared_times)"
   ]
  },
  {
   "cell_type": "code",
   "execution_count": null,
   "metadata": {},
   "outputs": [],
   "source": [
    "dry_mask = masking.make_mask(ds_wofs_matched, dry=True)"
   ]
  },
  {
   "cell_type": "code",
   "execution_count": null,
   "metadata": {},
   "outputs": [],
   "source": [
    "ds_fc_masked = ds_fc_matched.where(dry_mask.water == True)"
   ]
  },
  {
   "cell_type": "code",
   "execution_count": null,
   "metadata": {},
   "outputs": [],
   "source": [
    "scene=3\n",
    "\n",
    "plt.figure(figsize=(12,8))\n",
    "gs = gridspec.GridSpec(2,2) # set up a 2 x 2 grid of 4 images for better presentation\n",
    "\n",
    "ax1=plt.subplot(gs[0,0])\n",
    "ds_fc_masked.PV.isel(time=scene).plot(cmap='gist_earth_r')\n",
    "ax1.set_title('PV')\n",
    "\n",
    "ax2=plt.subplot(gs[1,0])\n",
    "ds_fc_masked.BS.isel(time=scene).plot(cmap='Oranges')\n",
    "ax2.set_title('BS')\n",
    "\n",
    "ax3=plt.subplot(gs[0,1])\n",
    "ds_fc_masked.NPV.isel(time=scene).plot(cmap='copper')\n",
    "ax3.set_title('NPV')\n",
    "\n",
    "ax4=plt.subplot(gs[1,1])\n",
    "ds_fc_masked.UE.isel(time=scene).plot(cmap='magma')\n",
    "ax4.set_title('UE')\n",
    "\n",
    "plt.tight_layout()\n",
    "plt.show()"
   ]
  }
 ],
 "metadata": {
  "kernelspec": {
   "display_name": "Python 3",
   "language": "python",
   "name": "python3"
  },
  "language_info": {
   "codemirror_mode": {
    "name": "ipython",
    "version": 3
   },
   "file_extension": ".py",
   "mimetype": "text/x-python",
   "name": "python",
   "nbconvert_exporter": "python",
   "pygments_lexer": "ipython3",
   "version": "3.6.7"
  }
 },
 "nbformat": 4,
 "nbformat_minor": 2
}
